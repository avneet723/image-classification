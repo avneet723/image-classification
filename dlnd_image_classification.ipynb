{
 "cells": [
  {
   "cell_type": "markdown",
   "metadata": {
    "collapsed": true,
    "deletable": true,
    "editable": true
   },
   "source": [
    "# Image Classification\n",
    "In this project, you'll classify images from the [CIFAR-10 dataset](https://www.cs.toronto.edu/~kriz/cifar.html).  The dataset consists of airplanes, dogs, cats, and other objects. You'll preprocess the images, then train a convolutional neural network on all the samples. The images need to be normalized and the labels need to be one-hot encoded.  You'll get to apply what you learned and build a convolutional, max pooling, dropout, and fully connected layers.  At the end, you'll get to see your neural network's predictions on the sample images.\n",
    "## Get the Data\n",
    "Run the following cell to download the [CIFAR-10 dataset for python](https://www.cs.toronto.edu/~kriz/cifar-10-python.tar.gz)."
   ]
  },
  {
   "cell_type": "code",
   "execution_count": 4,
   "metadata": {
    "collapsed": false,
    "deletable": true,
    "editable": true
   },
   "outputs": [
    {
     "name": "stdout",
     "output_type": "stream",
     "text": [
      "All files found!\n"
     ]
    }
   ],
   "source": [
    "\"\"\"\n",
    "DON'T MODIFY ANYTHING IN THIS CELL THAT IS BELOW THIS LINE\n",
    "\"\"\"\n",
    "from urllib.request import urlretrieve\n",
    "from os.path import isfile, isdir\n",
    "from tqdm import tqdm\n",
    "import problem_unittests as tests\n",
    "import tarfile\n",
    "\n",
    "cifar10_dataset_folder_path = 'cifar-10-batches-py'\n",
    "\n",
    "class DLProgress(tqdm):\n",
    "    last_block = 0\n",
    "\n",
    "    def hook(self, block_num=1, block_size=1, total_size=None):\n",
    "        self.total = total_size\n",
    "        self.update((block_num - self.last_block) * block_size)\n",
    "        self.last_block = block_num\n",
    "\n",
    "if not isfile('cifar-10-python.tar.gz'):\n",
    "    with DLProgress(unit='B', unit_scale=True, miniters=1, desc='CIFAR-10 Dataset') as pbar:\n",
    "        urlretrieve(\n",
    "            'https://www.cs.toronto.edu/~kriz/cifar-10-python.tar.gz',\n",
    "            'cifar-10-python.tar.gz',\n",
    "            pbar.hook)\n",
    "\n",
    "if not isdir(cifar10_dataset_folder_path):\n",
    "    with tarfile.open('cifar-10-python.tar.gz') as tar:\n",
    "        tar.extractall()\n",
    "        tar.close()\n",
    "\n",
    "\n",
    "tests.test_folder_path(cifar10_dataset_folder_path)"
   ]
  },
  {
   "cell_type": "markdown",
   "metadata": {
    "deletable": true,
    "editable": true
   },
   "source": [
    "## Explore the Data\n",
    "The dataset is broken into batches to prevent your machine from running out of memory.  The CIFAR-10 dataset consists of 5 batches, named `data_batch_1`, `data_batch_2`, etc.. Each batch contains the labels and images that are one of the following:\n",
    "* airplane\n",
    "* automobile\n",
    "* bird\n",
    "* cat\n",
    "* deer\n",
    "* dog\n",
    "* frog\n",
    "* horse\n",
    "* ship\n",
    "* truck\n",
    "\n",
    "Understanding a dataset is part of making predictions on the data.  Play around with the code cell below by changing the `batch_id` and `sample_id`. The `batch_id` is the id for a batch (1-5). The `sample_id` is the id for a image and label pair in the batch.\n",
    "\n",
    "Ask yourself \"What are all possible labels?\", \"What is the range of values for the image data?\", \"Are the labels in order or random?\".  Answers to questions like these will help you preprocess the data and end up with better predictions."
   ]
  },
  {
   "cell_type": "code",
   "execution_count": 5,
   "metadata": {
    "collapsed": false,
    "deletable": true,
    "editable": true
   },
   "outputs": [
    {
     "name": "stdout",
     "output_type": "stream",
     "text": [
      "\n",
      "Stats of batch 3:\n",
      "Samples: 10000\n",
      "Label Counts: {0: 994, 1: 1042, 2: 965, 3: 997, 4: 990, 5: 1029, 6: 978, 7: 1015, 8: 961, 9: 1029}\n",
      "First 20 Labels: [8, 5, 0, 6, 9, 2, 8, 3, 6, 2, 7, 4, 6, 9, 0, 0, 7, 3, 7, 2]\n",
      "\n",
      "Example of Image 20:\n",
      "Image - Min Value: 26 Max Value: 252\n",
      "Image - Shape: (32, 32, 3)\n",
      "Label - Label Id: 5 Name: dog\n"
     ]
    },
    {
     "data": {
      "image/png": "[encoded data removed]",
      "text/plain": [
       "<matplotlib.figure.Figure at 0x7fe903a85e80>"
      ]
     },
     "metadata": {
      "image/png": {
       "height": 250,
       "width": 253
      }
     },
     "output_type": "display_data"
    }
   ],
   "source": [
    "%matplotlib inline\n",
    "%config InlineBackend.figure_format = 'retina'\n",
    "\n",
    "import helper\n",
    "import numpy as np\n",
    "\n",
    "# Explore the dataset\n",
    "batch_id = 3\n",
    "sample_id = 20\n",
    "helper.display_stats(cifar10_dataset_folder_path, batch_id, sample_id)"
   ]
  },
  {
   "cell_type": "markdown",
   "metadata": {
    "deletable": true,
    "editable": true
   },
   "source": [
    "## Implement Preprocess Functions\n",
    "### Normalize\n",
    "In the cell below, implement the `normalize` function to take in image data, `x`, and return it as a normalized Numpy array. The values should be in the range of 0 to 1, inclusive.  The return object should be the same shape as `x`."
   ]
  },
  {
   "cell_type": "code",
   "execution_count": 6,
   "metadata": {
    "collapsed": false,
    "deletable": true,
    "editable": true
   },
   "outputs": [
    {
     "name": "stdout",
     "output_type": "stream",
     "text": [
      "Tests Passed\n"
     ]
    }
   ],
   "source": [
    "def normalize(x):\n",
    "    \"\"\"\n",
    "    Normalize a list of sample image data in the range of 0 to 1\n",
    "    : x: List of image data.  The image shape is (32, 32, 3)\n",
    "    : return: Numpy array of normalize data\n",
    "    \"\"\"\n",
    "    # TODO: Implement Function\n",
    "    \n",
    "    x = np.array(x)\n",
    "    x_min = x.min()\n",
    "    x_max = x.max()\n",
    "    normal_x = (x - x_min)/(x_max - x_min)\n",
    "    \n",
    "    return normal_x\n",
    "\n",
    "\n",
    "\"\"\"\n",
    "DON'T MODIFY ANYTHING IN THIS CELL THAT IS BELOW THIS LINE\n",
    "\"\"\"\n",
    "tests.test_normalize(normalize)"
   ]
  },
  {
   "cell_type": "markdown",
   "metadata": {
    "deletable": true,
    "editable": true
   },
   "source": [
    "### One-hot encode\n",
    "Just like the previous code cell, you'll be implementing a function for preprocessing.  This time, you'll implement the `one_hot_encode` function. The input, `x`, are a list of labels.  Implement the function to return the list of labels as One-Hot encoded Numpy array.  The possible values for labels are 0 to 9. The one-hot encoding function should return the same encoding for each value between each call to `one_hot_encode`.  Make sure to save the map of encodings outside the function.\n",
    "\n",
    "Hint: Don't reinvent the wheel."
   ]
  },
  {
   "cell_type": "code",
   "execution_count": 7,
   "metadata": {
    "collapsed": false,
    "deletable": true,
    "editable": true
   },
   "outputs": [
    {
     "name": "stdout",
     "output_type": "stream",
     "text": [
      "Tests Passed\n"
     ]
    }
   ],
   "source": [
    "def one_hot_encode(x):\n",
    "    \"\"\"\n",
    "    One hot encode a list of sample labels. Return a one-hot encoded vector for each label.\n",
    "    : x: List of sample Labels\n",
    "    : return: Numpy array of one-hot encoded labels\n",
    "    \"\"\"\n",
    "    # TODO: Implement Function\n",
    "    \n",
    "    # Create a zeros matrix of dimensions len(x) and the highest value of x + 1 (for 0th)\n",
    "    one_hot = np.zeros((len(x), max(x)+1))\n",
    "    \n",
    "    #Evenly space the one_hot values between 0 and len(x)\n",
    "    \n",
    "    one_hot[np.arange(len(x)), x] = 1\n",
    "    \n",
    "    return one_hot\n",
    "\n",
    "\n",
    "\"\"\"\n",
    "DON'T MODIFY ANYTHING IN THIS CELL THAT IS BELOW THIS LINE\n",
    "\"\"\"\n",
    "tests.test_one_hot_encode(one_hot_encode)"
   ]
  },
  {
   "cell_type": "markdown",
   "metadata": {
    "deletable": true,
    "editable": true
   },
   "source": [
    "### Randomize Data\n",
    "As you saw from exploring the data above, the order of the samples are randomized.  It doesn't hurt to randomize it again, but you don't need to for this dataset."
   ]
  },
  {
   "cell_type": "markdown",
   "metadata": {
    "deletable": true,
    "editable": true
   },
   "source": [
    "## Preprocess all the data and save it\n",
    "Running the code cell below will preprocess all the CIFAR-10 data and save it to file. The code below also uses 10% of the training data for validation."
   ]
  },
  {
   "cell_type": "code",
   "execution_count": 8,
   "metadata": {
    "collapsed": false,
    "deletable": true,
    "editable": true
   },
   "outputs": [],
   "source": [
    "\"\"\"\n",
    "DON'T MODIFY ANYTHING IN THIS CELL\n",
    "\"\"\"\n",
    "# Preprocess Training, Validation, and Testing Data\n",
    "helper.preprocess_and_save_data(cifar10_dataset_folder_path, normalize, one_hot_encode)"
   ]
  },
  {
   "cell_type": "markdown",
   "metadata": {
    "deletable": true,
    "editable": true
   },
   "source": [
    "# Check Point\n",
    "This is your first checkpoint.  If you ever decide to come back to this notebook or have to restart the notebook, you can start from here.  The preprocessed data has been saved to disk."
   ]
  },
  {
   "cell_type": "code",
   "execution_count": 9,
   "metadata": {
    "collapsed": false,
    "deletable": true,
    "editable": true
   },
   "outputs": [],
   "source": [
    "\"\"\"\n",
    "DON'T MODIFY ANYTHING IN THIS CELL\n",
    "\"\"\"\n",
    "import pickle\n",
    "import problem_unittests as tests\n",
    "import helper\n",
    "\n",
    "# Load the Preprocessed Validation data\n",
    "valid_features, valid_labels = pickle.load(open('preprocess_validation.p', mode='rb'))"
   ]
  },
  {
   "cell_type": "markdown",
   "metadata": {
    "deletable": true,
    "editable": true
   },
   "source": [
    "## Build the network\n",
    "For the neural network, you'll build each layer into a function.  Most of the code you've seen has been outside of functions. To test your code more thoroughly, we require that you put each layer in a function.  This allows us to give you better feedback and test for simple mistakes using our unittests before you submit your project.\n",
    "\n",
    ">**Note:** If you're finding it hard to dedicate enough time for this course each week, we've provided a small shortcut to this part of the project. In the next couple of problems, you'll have the option to use classes from the [TensorFlow Layers](https://www.tensorflow.org/api_docs/python/tf/layers) or [TensorFlow Layers (contrib)](https://www.tensorflow.org/api_guides/python/contrib.layers) packages to build each layer, except the layers you build in the \"Convolutional and Max Pooling Layer\" section.  TF Layers is similar to Keras's and TFLearn's abstraction to layers, so it's easy to pickup.\n",
    "\n",
    ">However, if you would like to get the most out of this course, try to solve all the problems _without_ using anything from the TF Layers packages. You **can** still use classes from other packages that happen to have the same name as ones you find in TF Layers! For example, instead of using the TF Layers version of the `conv2d` class, [tf.layers.conv2d](https://www.tensorflow.org/api_docs/python/tf/layers/conv2d), you would want to use the TF Neural Network version of `conv2d`, [tf.nn.conv2d](https://www.tensorflow.org/api_docs/python/tf/nn/conv2d). \n",
    "\n",
    "Let's begin!\n",
    "\n",
    "### Input\n",
    "The neural network needs to read the image data, one-hot encoded labels, and dropout keep probability. Implement the following functions\n",
    "* Implement `neural_net_image_input`\n",
    " * Return a [TF Placeholder](https://www.tensorflow.org/api_docs/python/tf/placeholder)\n",
    " * Set the shape using `image_shape` with batch size set to `None`.\n",
    " * Name the TensorFlow placeholder \"x\" using the TensorFlow `name` parameter in the [TF Placeholder](https://www.tensorflow.org/api_docs/python/tf/placeholder).\n",
    "* Implement `neural_net_label_input`\n",
    " * Return a [TF Placeholder](https://www.tensorflow.org/api_docs/python/tf/placeholder)\n",
    " * Set the shape using `n_classes` with batch size set to `None`.\n",
    " * Name the TensorFlow placeholder \"y\" using the TensorFlow `name` parameter in the [TF Placeholder](https://www.tensorflow.org/api_docs/python/tf/placeholder).\n",
    "* Implement `neural_net_keep_prob_input`\n",
    " * Return a [TF Placeholder](https://www.tensorflow.org/api_docs/python/tf/placeholder) for dropout keep probability.\n",
    " * Name the TensorFlow placeholder \"keep_prob\" using the TensorFlow `name` parameter in the [TF Placeholder](https://www.tensorflow.org/api_docs/python/tf/placeholder).\n",
    "\n",
    "These names will be used at the end of the project to load your saved model.\n",
    "\n",
    "Note: `None` for shapes in TensorFlow allow for a dynamic size."
   ]
  },
  {
   "cell_type": "code",
   "execution_count": 10,
   "metadata": {
    "collapsed": false,
    "deletable": true,
    "editable": true
   },
   "outputs": [
    {
     "name": "stdout",
     "output_type": "stream",
     "text": [
      "Image Input Tests Passed.\n",
      "Label Input Tests Passed.\n",
      "Keep Prob Tests Passed.\n"
     ]
    }
   ],
   "source": [
    "import tensorflow as tf\n",
    "\n",
    "def neural_net_image_input(image_shape):\n",
    "    \"\"\"\n",
    "    Return a Tensor for a batch of image input\n",
    "    : image_shape: Shape of the images\n",
    "    : return: Tensor for image input.\n",
    "    \"\"\"\n",
    "    # TODO: Implement Function\n",
    "    \n",
    "    return tf.placeholder(tf.float32, (None, image_shape[0], image_shape[1], image_shape[2]), name='x')\n",
    "    \n",
    "\n",
    "def neural_net_label_input(n_classes):\n",
    "    \"\"\"\n",
    "    Return a Tensor for a batch of label input\n",
    "    : n_classes: Number of classes\n",
    "    : return: Tensor for label input.\n",
    "    \"\"\"\n",
    "    # TODO: Implement Function\n",
    "    return tf.placeholder(tf.float32, [None, n_classes], name='y')\n",
    "\n",
    "\n",
    "def neural_net_keep_prob_input():\n",
    "    \"\"\"\n",
    "    Return a Tensor for keep probability\n",
    "    : return: Tensor for keep probability.\n",
    "    \"\"\"\n",
    "    # TODO: Implement Function\n",
    "    return tf.placeholder(tf.float32, name='keep_prob')\n",
    "\n",
    "\n",
    "\"\"\"\n",
    "DON'T MODIFY ANYTHING IN THIS CELL THAT IS BELOW THIS LINE\n",
    "\"\"\"\n",
    "tf.reset_default_graph()\n",
    "tests.test_nn_image_inputs(neural_net_image_input)\n",
    "tests.test_nn_label_inputs(neural_net_label_input)\n",
    "tests.test_nn_keep_prob_inputs(neural_net_keep_prob_input)"
   ]
  },
  {
   "cell_type": "markdown",
   "metadata": {
    "deletable": true,
    "editable": true
   },
   "source": [
    "### Convolution and Max Pooling Layer\n",
    "Convolution layers have a lot of success with images. For this code cell, you should implement the function `conv2d_maxpool` to apply convolution then max pooling:\n",
    "* Create the weight and bias using `conv_ksize`, `conv_num_outputs` and the shape of `x_tensor`.\n",
    "* Apply a convolution to `x_tensor` using weight and `conv_strides`.\n",
    " * We recommend you use same padding, but you're welcome to use any padding.\n",
    "* Add bias\n",
    "* Add a nonlinear activation to the convolution.\n",
    "* Apply Max Pooling using `pool_ksize` and `pool_strides`.\n",
    " * We recommend you use same padding, but you're welcome to use any padding.\n",
    "\n",
    "**Note:** You **can't** use [TensorFlow Layers](https://www.tensorflow.org/api_docs/python/tf/layers) or [TensorFlow Layers (contrib)](https://www.tensorflow.org/api_guides/python/contrib.layers) for **this** layer, but you can still use TensorFlow's [Neural Network](https://www.tensorflow.org/api_docs/python/tf/nn) package. You may still use the shortcut option for all the **other** layers."
   ]
  },
  {
   "cell_type": "code",
   "execution_count": 11,
   "metadata": {
    "collapsed": false,
    "deletable": true,
    "editable": true
   },
   "outputs": [
    {
     "name": "stdout",
     "output_type": "stream",
     "text": [
      "Tests Passed\n"
     ]
    }
   ],
   "source": [
    "def conv2d_maxpool(x_tensor, conv_num_outputs, conv_ksize, conv_strides, pool_ksize, pool_strides):\n",
    "    \"\"\"\n",
    "    Apply convolution then max pooling to x_tensor\n",
    "    :param x_tensor: TensorFlow Tensor\n",
    "    :param conv_num_outputs: Number of outputs for the convolutional layer\n",
    "    :param conv_ksize: kernal size 2-D Tuple for the convolutional layer\n",
    "    :param conv_strides: Stride 2-D Tuple for convolution\n",
    "    :param pool_ksize: kernal size 2-D Tuple for pool\n",
    "    :param pool_strides: Stride 2-D Tuple for pool\n",
    "    : return: A tensor that represents convolution and max pooling of x_tensor\n",
    "    \"\"\"\n",
    "    # TODO: Implement Function\n",
    "    \n",
    "    # Define the filter \n",
    "        # Weights\n",
    "    filter_weight = tf.Variable(tf.truncated_normal((conv_ksize[0], conv_ksize[1], \n",
    "                                                     int(x_tensor.shape[3]), conv_num_outputs), stddev=0.1))\n",
    "        # Bias \n",
    "    filter_bias = tf.Variable(tf.zeros([conv_num_outputs]))\n",
    "    \n",
    "    # Convolution Layer\n",
    "        # Remember Strides = [1,2,2,1] = [1, strides[0], strides[1], 1]\n",
    "    conv_layer = tf.nn.conv2d(x_tensor, filter_weight, \n",
    "                              strides=[1, conv_strides[0], conv_strides[1], 1], padding='SAME')\n",
    "        #Add Bias \n",
    "    conv_layer = tf.nn.bias_add(conv_layer, filter_bias)\n",
    "    \n",
    "    # Apply Max Pooling\n",
    "    conv_layer = tf.nn.max_pool(conv_layer, \n",
    "                                ksize = [1, pool_ksize[0], pool_ksize[1], 1], \n",
    "                                strides=[1, pool_strides[0], pool_strides[1], 1], \n",
    "                                padding='SAME')\n",
    "    \n",
    "    # Activate \n",
    "    conv_layer = tf.nn.relu(conv_layer)\n",
    "    \n",
    "    return conv_layer\n",
    "\n",
    "\n",
    "\"\"\"\n",
    "DON'T MODIFY ANYTHING IN THIS CELL THAT IS BELOW THIS LINE\n",
    "\"\"\"\n",
    "tests.test_con_pool(conv2d_maxpool)"
   ]
  },
  {
   "cell_type": "markdown",
   "metadata": {
    "deletable": true,
    "editable": true
   },
   "source": [
    "### Flatten Layer\n",
    "Implement the `flatten` function to change the dimension of `x_tensor` from a 4-D tensor to a 2-D tensor.  The output should be the shape (*Batch Size*, *Flattened Image Size*). Shortcut option: you can use classes from the [TensorFlow Layers](https://www.tensorflow.org/api_docs/python/tf/layers) or [TensorFlow Layers (contrib)](https://www.tensorflow.org/api_guides/python/contrib.layers) packages for this layer. For more of a challenge, only use other TensorFlow packages."
   ]
  },
  {
   "cell_type": "code",
   "execution_count": 12,
   "metadata": {
    "collapsed": false,
    "deletable": true,
    "editable": true
   },
   "outputs": [
    {
     "name": "stdout",
     "output_type": "stream",
     "text": [
      "Tests Passed\n"
     ]
    }
   ],
   "source": [
    "def flatten(x_tensor):\n",
    "    \"\"\"\n",
    "    Flatten x_tensor to (Batch Size, Flattened Image Size)\n",
    "    : x_tensor: A tensor of size (Batch Size, ...), where ... are the image dimensions.\n",
    "    : return: A tensor of size (Batch Size, Flattened Image Size).\n",
    "    \"\"\"\n",
    "    # TODO: Implement Function\n",
    "    \n",
    "    x_tensor = tf.contrib.layers.flatten(x_tensor)\n",
    "    \n",
    "    return x_tensor\n",
    "\n",
    "\n",
    "\"\"\"\n",
    "DON'T MODIFY ANYTHING IN THIS CELL THAT IS BELOW THIS LINE\n",
    "\"\"\"\n",
    "tests.test_flatten(flatten)"
   ]
  },
  {
   "cell_type": "markdown",
   "metadata": {
    "deletable": true,
    "editable": true
   },
   "source": [
    "### Fully-Connected Layer\n",
    "Implement the `fully_conn` function to apply a fully connected layer to `x_tensor` with the shape (*Batch Size*, *num_outputs*). Shortcut option: you can use classes from the [TensorFlow Layers](https://www.tensorflow.org/api_docs/python/tf/layers) or [TensorFlow Layers (contrib)](https://www.tensorflow.org/api_guides/python/contrib.layers) packages for this layer. For more of a challenge, only use other TensorFlow packages."
   ]
  },
  {
   "cell_type": "code",
   "execution_count": 13,
   "metadata": {
    "collapsed": false,
    "deletable": true,
    "editable": true
   },
   "outputs": [
    {
     "name": "stdout",
     "output_type": "stream",
     "text": [
      "Tests Passed\n"
     ]
    }
   ],
   "source": [
    "def fully_conn(x_tensor, num_outputs):\n",
    "    \"\"\"\n",
    "    Apply a fully connected layer to x_tensor using weight and bias\n",
    "    : x_tensor: A 2-D tensor where the first dimension is batch size.\n",
    "    : num_outputs: The number of output that the new tensor should be.\n",
    "    : return: A 2-D tensor where the second dimension is num_outputs.\n",
    "    \"\"\"\n",
    "    # TODO: Implement Function\n",
    "    \n",
    "    # Determine image size, weights and bias \n",
    "    image_shape = x_tensor.get_shape().as_list()\n",
    "    image_size = image_shape[1]\n",
    "    \n",
    "    weights = tf.Variable(tf.truncated_normal([image_size, num_outputs], stddev=0.1))\n",
    "    \n",
    "    bias = tf.Variable(tf.zeros(num_outputs))\n",
    "    \n",
    "    x_tensor_out = tf.add(tf.matmul(x_tensor, weights), bias)\n",
    "\n",
    "    # Activate \n",
    "    x_tensor_out = tf.nn.relu(x_tensor_out)\n",
    "    \n",
    "    return x_tensor_out\n",
    "\n",
    "\"\"\"\n",
    "DON'T MODIFY ANYTHING IN THIS CELL THAT IS BELOW THIS LINE\n",
    "\"\"\"\n",
    "tests.test_fully_conn(fully_conn)"
   ]
  },
  {
   "cell_type": "markdown",
   "metadata": {
    "deletable": true,
    "editable": true
   },
   "source": [
    "### Output Layer\n",
    "Implement the `output` function to apply a fully connected layer to `x_tensor` with the shape (*Batch Size*, *num_outputs*). Shortcut option: you can use classes from the [TensorFlow Layers](https://www.tensorflow.org/api_docs/python/tf/layers) or [TensorFlow Layers (contrib)](https://www.tensorflow.org/api_guides/python/contrib.layers) packages for this layer. For more of a challenge, only use other TensorFlow packages.\n",
    "\n",
    "**Note:** Activation, softmax, or cross entropy should **not** be applied to this."
   ]
  },
  {
   "cell_type": "code",
   "execution_count": 14,
   "metadata": {
    "collapsed": false,
    "deletable": true,
    "editable": true
   },
   "outputs": [
    {
     "name": "stdout",
     "output_type": "stream",
     "text": [
      "Tests Passed\n"
     ]
    }
   ],
   "source": [
    "def output(x_tensor, num_outputs):\n",
    "    \"\"\"\n",
    "    Apply a output layer to x_tensor using weight and bias\n",
    "    : x_tensor: A 2-D tensor where the first dimension is batch size.\n",
    "    : num_outputs: The number of output that the new tensor should be.\n",
    "    : return: A 2-D tensor where the second dimension is num_outputs.\n",
    "    \"\"\"\n",
    "    # TODO: Implement Function\n",
    "    \n",
    "    # Determine image size, weights and bias \n",
    "    image_shape = x_tensor.get_shape().as_list()\n",
    "    image_size = image_shape[1]\n",
    "    \n",
    "    weights = tf.Variable(tf.truncated_normal([image_size, num_outputs], stddev=0.1))\n",
    "    \n",
    "    bias = tf.Variable(tf.zeros(num_outputs))\n",
    "    \n",
    "    x_tensor_out = tf.add(tf.matmul(x_tensor, weights), bias)\n",
    "    \n",
    "    return x_tensor_out\n",
    "\n",
    "\n",
    "\"\"\"\n",
    "DON'T MODIFY ANYTHING IN THIS CELL THAT IS BELOW THIS LINE\n",
    "\"\"\"\n",
    "tests.test_output(output)"
   ]
  },
  {
   "cell_type": "markdown",
   "metadata": {
    "deletable": true,
    "editable": true
   },
   "source": [
    "### Create Convolutional Model\n",
    "Implement the function `conv_net` to create a convolutional neural network model. The function takes in a batch of images, `x`, and outputs logits.  Use the layers you created above to create this model:\n",
    "\n",
    "* Apply 1, 2, or 3 Convolution and Max Pool layers\n",
    "* Apply a Flatten Layer\n",
    "* Apply 1, 2, or 3 Fully Connected Layers\n",
    "* Apply an Output Layer\n",
    "* Return the output\n",
    "* Apply [TensorFlow's Dropout](https://www.tensorflow.org/api_docs/python/tf/nn/dropout) to one or more layers in the model using `keep_prob`. "
   ]
  },
  {
   "cell_type": "code",
   "execution_count": 15,
   "metadata": {
    "collapsed": false,
    "deletable": true,
    "editable": true
   },
   "outputs": [
    {
     "name": "stdout",
     "output_type": "stream",
     "text": [
      "Neural Network Built!\n"
     ]
    }
   ],
   "source": [
    "def conv_net(x, keep_prob):\n",
    "    \"\"\"\n",
    "    Create a convolutional neural network model\n",
    "    : x: Placeholder tensor that holds image data.\n",
    "    : keep_prob: Placeholder tensor that hold dropout keep probability.\n",
    "    : return: Tensor that represents logits\n",
    "    \"\"\"\n",
    "    # TODO: Apply 1, 2, or 3 Convolution and Max Pool layers\n",
    "    #    Play around with different number of outputs, kernel size and stride\n",
    "    # Function Definition from Above:\n",
    "    #    conv2d_maxpool(x_tensor, conv_num_outputs, conv_ksize, conv_strides, pool_ksize, pool_strides)\n",
    "    \n",
    "    x_tensor = x\n",
    "    conv_ksize = [2,2]\n",
    "    conv_strides = [1,1]\n",
    "    pool_ksize = [2,2]\n",
    "    pool_strides = [2,2]\n",
    "    \n",
    "    #Input images are of size 32x32x3\n",
    "    \n",
    "    conv_num_outputs = 32\n",
    "    conv_layer1 = conv2d_maxpool(x_tensor, conv_num_outputs, conv_ksize, conv_strides, pool_ksize, pool_strides)\n",
    "        \n",
    "    conv_num_outputs = 48\n",
    "    conv_layer2 = conv2d_maxpool(x_tensor, conv_num_outputs, conv_ksize, conv_strides, pool_ksize, pool_strides)\n",
    "    \n",
    "    conv_num_outputs = 60\n",
    "    conv_layer3 = conv2d_maxpool(x_tensor, conv_num_outputs, conv_ksize, conv_strides, pool_ksize, pool_strides)\n",
    "    \n",
    "\n",
    "    # TODO: Apply a Flatten Layer\n",
    "    # Function Definition from Above:\n",
    "    #   flatten(x_tensor)\n",
    "\n",
    "    flat = flatten(conv_layer3)\n",
    "\n",
    "    # TODO: Apply 1, 2, or 3 Fully Connected Layers\n",
    "    #    Play around with different number of outputs\n",
    "    # Function Definition from Above:\n",
    "    #   fully_conn(x_tensor, num_outputs)\n",
    "    \n",
    "    num_outputs = 100\n",
    "    full_connect_1 = fully_conn(flat, num_outputs)\n",
    "    \n",
    "    # Dropout layer \n",
    "    full_connect_drop = tf.nn.dropout(full_connect_1, keep_prob)\n",
    "    \n",
    "    \n",
    "    num_outputs = 100\n",
    "    full_connect_2 = fully_conn(full_connect_drop, num_outputs)\n",
    " \n",
    "    # TODO: Apply an Output Layer\n",
    "    #    Set this to the number of classes\n",
    "    # Function Definition from Above:\n",
    "    #   output(x_tensor, num_outputs)\n",
    "    \n",
    "    logits = output(full_connect_2, 10) \n",
    "    \n",
    "    # TODO: return output\n",
    "    return logits\n",
    "\n",
    "\n",
    "\"\"\"\n",
    "DON'T MODIFY ANYTHING IN THIS CELL THAT IS BELOW THIS LINE\n",
    "\"\"\"\n",
    "\n",
    "##############################\n",
    "## Build the Neural Network ##\n",
    "##############################\n",
    "\n",
    "# Remove previous weights, bias, inputs, etc..\n",
    "tf.reset_default_graph()\n",
    "\n",
    "# Inputs\n",
    "x = neural_net_image_input((32, 32, 3))\n",
    "y = neural_net_label_input(10)\n",
    "keep_prob = neural_net_keep_prob_input()\n",
    "\n",
    "# Model\n",
    "logits = conv_net(x, keep_prob)\n",
    "\n",
    "# Name logits Tensor, so that is can be loaded from disk after training\n",
    "logits = tf.identity(logits, name='logits')\n",
    "\n",
    "# Loss and Optimizer\n",
    "cost = tf.reduce_mean(tf.nn.softmax_cross_entropy_with_logits(logits=logits, labels=y))\n",
    "optimizer = tf.train.AdamOptimizer().minimize(cost)\n",
    "\n",
    "# Accuracy\n",
    "correct_pred = tf.equal(tf.argmax(logits, 1), tf.argmax(y, 1))\n",
    "accuracy = tf.reduce_mean(tf.cast(correct_pred, tf.float32), name='accuracy')\n",
    "\n",
    "tests.test_conv_net(conv_net)"
   ]
  },
  {
   "cell_type": "markdown",
   "metadata": {
    "deletable": true,
    "editable": true
   },
   "source": [
    "## Train the Neural Network\n",
    "### Single Optimization\n",
    "Implement the function `train_neural_network` to do a single optimization.  The optimization should use `optimizer` to optimize in `session` with a `feed_dict` of the following:\n",
    "* `x` for image input\n",
    "* `y` for labels\n",
    "* `keep_prob` for keep probability for dropout\n",
    "\n",
    "This function will be called for each batch, so `tf.global_variables_initializer()` has already been called.\n",
    "\n",
    "Note: Nothing needs to be returned. This function is only optimizing the neural network."
   ]
  },
  {
   "cell_type": "code",
   "execution_count": 16,
   "metadata": {
    "collapsed": false,
    "deletable": true,
    "editable": true
   },
   "outputs": [
    {
     "name": "stdout",
     "output_type": "stream",
     "text": [
      "Tests Passed\n"
     ]
    }
   ],
   "source": [
    "def train_neural_network(session, optimizer, keep_probability, feature_batch, label_batch):\n",
    "    \"\"\"\n",
    "    Optimize the session on a batch of images and labels\n",
    "    : session: Current TensorFlow session\n",
    "    : optimizer: TensorFlow optimizer function\n",
    "    : keep_probability: keep probability\n",
    "    : feature_batch: Batch of Numpy image data\n",
    "    : label_batch: Batch of Numpy label data\n",
    "    \"\"\"\n",
    "    # TODO: Implement Function\n",
    "    \n",
    "    # Already called\n",
    "    # sess.run(tf.global_variables_initializer)\n",
    "    session.run(optimizer, feed_dict={x: feature_batch, y:label_batch, keep_prob:keep_probability})\n",
    "\n",
    "\n",
    "\"\"\"\n",
    "DON'T MODIFY ANYTHING IN THIS CELL THAT IS BELOW THIS LINE\n",
    "\"\"\"\n",
    "tests.test_train_nn(train_neural_network)"
   ]
  },
  {
   "cell_type": "markdown",
   "metadata": {
    "deletable": true,
    "editable": true
   },
   "source": [
    "### Show Stats\n",
    "Implement the function `print_stats` to print loss and validation accuracy.  Use the global variables `valid_features` and `valid_labels` to calculate validation accuracy.  Use a keep probability of `1.0` to calculate the loss and validation accuracy."
   ]
  },
  {
   "cell_type": "code",
   "execution_count": 17,
   "metadata": {
    "collapsed": false,
    "deletable": true,
    "editable": true
   },
   "outputs": [],
   "source": [
    "def print_stats(session, feature_batch, label_batch, cost, accuracy):\n",
    "    \"\"\"\n",
    "    Print information about loss and validation accuracy\n",
    "    : session: Current TensorFlow session\n",
    "    : feature_batch: Batch of Numpy image data\n",
    "    : label_batch: Batch of Numpy label data\n",
    "    : cost: TensorFlow cost function\n",
    "    : accuracy: TensorFlow accuracy function\n",
    "    \"\"\"\n",
    "    # TODO: Implement Function\n",
    "    \n",
    "    keep_probility = 1.0\n",
    "    \n",
    "    loss = session.run(cost, feed_dict={x: feature_batch, y:label_batch, keep_prob:keep_probability})\n",
    "    valid_accuracy = session.run(accuracy, feed_dict={x: valid_features, y:valid_labels, keep_prob:keep_probability})\n",
    "    \n",
    "    print(\"Loss/Cost: {}, Validation Accuracy: {}\".format(loss, valid_accuracy))\n",
    "    "
   ]
  },
  {
   "cell_type": "markdown",
   "metadata": {
    "deletable": true,
    "editable": true
   },
   "source": [
    "### Hyperparameters\n",
    "Tune the following parameters:\n",
    "* Set `epochs` to the number of iterations until the network stops learning or start overfitting\n",
    "* Set `batch_size` to the highest number that your machine has memory for.  Most people set them to common sizes of memory:\n",
    " * 64\n",
    " * 128\n",
    " * 256\n",
    " * ...\n",
    "* Set `keep_probability` to the probability of keeping a node using dropout"
   ]
  },
  {
   "cell_type": "code",
   "execution_count": 20,
   "metadata": {
    "collapsed": true,
    "deletable": true,
    "editable": true
   },
   "outputs": [],
   "source": [
    "# TODO: Tune Parameters\n",
    "epochs = 45\n",
    "batch_size = 128 \n",
    "keep_probability = 0.5 # Start at .5"
   ]
  },
  {
   "cell_type": "markdown",
   "metadata": {
    "deletable": true,
    "editable": true
   },
   "source": [
    "### Train on a Single CIFAR-10 Batch\n",
    "Instead of training the neural network on all the CIFAR-10 batches of data, let's use a single batch. This should save time while you iterate on the model to get a better accuracy.  Once the final validation accuracy is 50% or greater, run the model on all the data in the next section."
   ]
  },
  {
   "cell_type": "code",
   "execution_count": 21,
   "metadata": {
    "collapsed": false,
    "deletable": true,
    "editable": true
   },
   "outputs": [
    {
     "name": "stdout",
     "output_type": "stream",
     "text": [
      "Checking the Training on a Single Batch...\n",
      "Epoch  1, CIFAR-10 Batch 1:  Loss/Cost: 2.1432437896728516, Validation Accuracy: 0.21959999203681946\n",
      "Epoch  2, CIFAR-10 Batch 1:  Loss/Cost: 2.0009498596191406, Validation Accuracy: 0.2766000032424927\n",
      "Epoch  3, CIFAR-10 Batch 1:  Loss/Cost: 2.0183205604553223, Validation Accuracy: 0.32339999079704285\n",
      "Epoch  4, CIFAR-10 Batch 1:  Loss/Cost: 1.9879460334777832, Validation Accuracy: 0.36039999127388\n",
      "Epoch  5, CIFAR-10 Batch 1:  Loss/Cost: 1.6463242769241333, Validation Accuracy: 0.3569999933242798\n",
      "Epoch  6, CIFAR-10 Batch 1:  Loss/Cost: 1.8525965213775635, Validation Accuracy: 0.3853999972343445\n",
      "Epoch  7, CIFAR-10 Batch 1:  Loss/Cost: 1.6201304197311401, Validation Accuracy: 0.4113999605178833\n",
      "Epoch  8, CIFAR-10 Batch 1:  Loss/Cost: 1.564672589302063, Validation Accuracy: 0.4307999312877655\n",
      "Epoch  9, CIFAR-10 Batch 1:  Loss/Cost: 1.433704137802124, Validation Accuracy: 0.43779996037483215\n",
      "Epoch 10, CIFAR-10 Batch 1:  Loss/Cost: 1.2677624225616455, Validation Accuracy: 0.43699997663497925\n",
      "Epoch 11, CIFAR-10 Batch 1:  Loss/Cost: 1.175762414932251, Validation Accuracy: 0.45399996638298035\n",
      "Epoch 12, CIFAR-10 Batch 1:  Loss/Cost: 1.1745350360870361, Validation Accuracy: 0.4667999744415283\n",
      "Epoch 13, CIFAR-10 Batch 1:  Loss/Cost: 1.109430193901062, Validation Accuracy: 0.4633999764919281\n",
      "Epoch 14, CIFAR-10 Batch 1:  Loss/Cost: 1.0474140644073486, Validation Accuracy: 0.46539995074272156\n",
      "Epoch 15, CIFAR-10 Batch 1:  Loss/Cost: 0.920836865901947, Validation Accuracy: 0.46199995279312134\n",
      "Epoch 16, CIFAR-10 Batch 1:  Loss/Cost: 0.8906426429748535, Validation Accuracy: 0.46039995551109314\n",
      "Epoch 17, CIFAR-10 Batch 1:  Loss/Cost: 1.0145177841186523, Validation Accuracy: 0.4753999710083008\n",
      "Epoch 18, CIFAR-10 Batch 1:  Loss/Cost: 0.8478143215179443, Validation Accuracy: 0.4761999547481537\n",
      "Epoch 19, CIFAR-10 Batch 1:  Loss/Cost: 0.8114309310913086, Validation Accuracy: 0.483599990606308\n",
      "Epoch 20, CIFAR-10 Batch 1:  Loss/Cost: 0.6191735863685608, Validation Accuracy: 0.4785999655723572\n",
      "Epoch 21, CIFAR-10 Batch 1:  Loss/Cost: 0.7855857610702515, Validation Accuracy: 0.47519996762275696\n",
      "Epoch 22, CIFAR-10 Batch 1:  Loss/Cost: 0.7407698631286621, Validation Accuracy: 0.4821999669075012\n",
      "Epoch 23, CIFAR-10 Batch 1:  Loss/Cost: 0.7658074498176575, Validation Accuracy: 0.478799968957901\n",
      "Epoch 24, CIFAR-10 Batch 1:  Loss/Cost: 0.5932467579841614, Validation Accuracy: 0.48820000886917114\n",
      "Epoch 25, CIFAR-10 Batch 1:  Loss/Cost: 0.7528988718986511, Validation Accuracy: 0.49139994382858276\n",
      "Epoch 26, CIFAR-10 Batch 1:  Loss/Cost: 0.6156430244445801, Validation Accuracy: 0.486799955368042\n",
      "Epoch 27, CIFAR-10 Batch 1:  Loss/Cost: 0.7280474305152893, Validation Accuracy: 0.4833999574184418\n",
      "Epoch 28, CIFAR-10 Batch 1:  Loss/Cost: 0.5927133560180664, Validation Accuracy: 0.46299996972084045\n",
      "Epoch 29, CIFAR-10 Batch 1:  Loss/Cost: 0.6508826017379761, Validation Accuracy: 0.48139992356300354\n",
      "Epoch 30, CIFAR-10 Batch 1:  Loss/Cost: 0.5209522247314453, Validation Accuracy: 0.48899996280670166\n",
      "Epoch 31, CIFAR-10 Batch 1:  Loss/Cost: 0.6332312822341919, Validation Accuracy: 0.47819995880126953\n",
      "Epoch 32, CIFAR-10 Batch 1:  Loss/Cost: 0.5932966470718384, Validation Accuracy: 0.4635999798774719\n",
      "Epoch 33, CIFAR-10 Batch 1:  Loss/Cost: 0.4821157157421112, Validation Accuracy: 0.4565999507904053\n",
      "Epoch 34, CIFAR-10 Batch 1:  Loss/Cost: 0.5561171174049377, Validation Accuracy: 0.47179993987083435\n",
      "Epoch 35, CIFAR-10 Batch 1:  Loss/Cost: 0.5096694231033325, Validation Accuracy: 0.4583999514579773\n",
      "Epoch 36, CIFAR-10 Batch 1:  Loss/Cost: 0.5485119819641113, Validation Accuracy: 0.47039994597435\n",
      "Epoch 37, CIFAR-10 Batch 1:  Loss/Cost: 0.40719297528266907, Validation Accuracy: 0.4617999792098999\n",
      "Epoch 38, CIFAR-10 Batch 1:  Loss/Cost: 0.4539051651954651, Validation Accuracy: 0.47119998931884766\n",
      "Epoch 39, CIFAR-10 Batch 1:  Loss/Cost: 0.4529731273651123, Validation Accuracy: 0.46779999136924744\n",
      "Epoch 40, CIFAR-10 Batch 1:  Loss/Cost: 0.37092679738998413, Validation Accuracy: 0.4765999913215637\n",
      "Epoch 41, CIFAR-10 Batch 1:  Loss/Cost: 0.505756676197052, Validation Accuracy: 0.48239994049072266\n",
      "Epoch 42, CIFAR-10 Batch 1:  Loss/Cost: 0.4995649456977844, Validation Accuracy: 0.4649999439716339\n",
      "Epoch 43, CIFAR-10 Batch 1:  Loss/Cost: 0.4259037971496582, Validation Accuracy: 0.47659996151924133\n",
      "Epoch 44, CIFAR-10 Batch 1:  Loss/Cost: 0.43844324350357056, Validation Accuracy: 0.4893999695777893\n",
      "Epoch 45, CIFAR-10 Batch 1:  Loss/Cost: 0.3362462520599365, Validation Accuracy: 0.4813999533653259\n"
     ]
    }
   ],
   "source": [
    "\"\"\"\n",
    "DON'T MODIFY ANYTHING IN THIS CELL\n",
    "\"\"\"\n",
    "print('Checking the Training on a Single Batch...')\n",
    "with tf.Session() as sess:\n",
    "    # Initializing the variables\n",
    "    sess.run(tf.global_variables_initializer())\n",
    "    \n",
    "    # Training cycle\n",
    "    for epoch in range(epochs):\n",
    "        batch_i = 1\n",
    "        for batch_features, batch_labels in helper.load_preprocess_training_batch(batch_i, batch_size):\n",
    "            train_neural_network(sess, optimizer, keep_probability, batch_features, batch_labels)\n",
    "        print('Epoch {:>2}, CIFAR-10 Batch {}:  '.format(epoch + 1, batch_i), end='')\n",
    "        print_stats(sess, batch_features, batch_labels, cost, accuracy)"
   ]
  },
  {
   "cell_type": "markdown",
   "metadata": {
    "deletable": true,
    "editable": true
   },
   "source": [
    "### Fully Train the Model\n",
    "Now that you got a good accuracy with a single CIFAR-10 batch, try it with all five batches."
   ]
  },
  {
   "cell_type": "code",
   "execution_count": 22,
   "metadata": {
    "collapsed": false,
    "deletable": true,
    "editable": true
   },
   "outputs": [
    {
     "name": "stdout",
     "output_type": "stream",
     "text": [
      "Training...\n",
      "Epoch  1, CIFAR-10 Batch 1:  Loss/Cost: 2.2783141136169434, Validation Accuracy: 0.2003999948501587\n",
      "Epoch  1, CIFAR-10 Batch 2:  Loss/Cost: 1.9602676630020142, Validation Accuracy: 0.28139999508857727\n",
      "Epoch  1, CIFAR-10 Batch 3:  Loss/Cost: 1.808129906654358, Validation Accuracy: 0.3230000138282776\n",
      "Epoch  1, CIFAR-10 Batch 4:  Loss/Cost: 1.8500447273254395, Validation Accuracy: 0.34859997034072876\n",
      "Epoch  1, CIFAR-10 Batch 5:  Loss/Cost: 1.713812232017517, Validation Accuracy: 0.3683999478816986\n",
      "Epoch  2, CIFAR-10 Batch 1:  Loss/Cost: 1.8258534669876099, Validation Accuracy: 0.40380001068115234\n",
      "Epoch  2, CIFAR-10 Batch 2:  Loss/Cost: 1.5906239748001099, Validation Accuracy: 0.41200000047683716\n",
      "Epoch  2, CIFAR-10 Batch 3:  Loss/Cost: 1.2383701801300049, Validation Accuracy: 0.41579997539520264\n",
      "Epoch  2, CIFAR-10 Batch 4:  Loss/Cost: 1.5022408962249756, Validation Accuracy: 0.4336000084877014\n",
      "Epoch  2, CIFAR-10 Batch 5:  Loss/Cost: 1.460927128791809, Validation Accuracy: 0.4217999577522278\n",
      "Epoch  3, CIFAR-10 Batch 1:  Loss/Cost: 1.422513484954834, Validation Accuracy: 0.42659997940063477\n",
      "Epoch  3, CIFAR-10 Batch 2:  Loss/Cost: 1.4343953132629395, Validation Accuracy: 0.44339999556541443\n",
      "Epoch  3, CIFAR-10 Batch 3:  Loss/Cost: 1.2845430374145508, Validation Accuracy: 0.4575999677181244\n",
      "Epoch  3, CIFAR-10 Batch 4:  Loss/Cost: 1.329493522644043, Validation Accuracy: 0.46059998869895935\n",
      "Epoch  3, CIFAR-10 Batch 5:  Loss/Cost: 1.386315107345581, Validation Accuracy: 0.4529999792575836\n",
      "Epoch  4, CIFAR-10 Batch 1:  Loss/Cost: 1.5627307891845703, Validation Accuracy: 0.4801999628543854\n",
      "Epoch  4, CIFAR-10 Batch 2:  Loss/Cost: 1.3749511241912842, Validation Accuracy: 0.46619996428489685\n",
      "Epoch  4, CIFAR-10 Batch 3:  Loss/Cost: 1.2064945697784424, Validation Accuracy: 0.47599995136260986\n",
      "Epoch  4, CIFAR-10 Batch 4:  Loss/Cost: 1.2857471704483032, Validation Accuracy: 0.48299992084503174\n",
      "Epoch  4, CIFAR-10 Batch 5:  Loss/Cost: 1.4468872547149658, Validation Accuracy: 0.4957999587059021\n",
      "Epoch  5, CIFAR-10 Batch 1:  Loss/Cost: 1.2788889408111572, Validation Accuracy: 0.4859999716281891\n",
      "Epoch  5, CIFAR-10 Batch 2:  Loss/Cost: 1.296504259109497, Validation Accuracy: 0.4853999614715576\n",
      "Epoch  5, CIFAR-10 Batch 3:  Loss/Cost: 0.9966111779212952, Validation Accuracy: 0.48899996280670166\n",
      "Epoch  5, CIFAR-10 Batch 4:  Loss/Cost: 1.2765600681304932, Validation Accuracy: 0.5005999803543091\n",
      "Epoch  5, CIFAR-10 Batch 5:  Loss/Cost: 1.2832307815551758, Validation Accuracy: 0.5029999613761902\n",
      "Epoch  6, CIFAR-10 Batch 1:  Loss/Cost: 1.3195421695709229, Validation Accuracy: 0.5049999356269836\n",
      "Epoch  6, CIFAR-10 Batch 2:  Loss/Cost: 1.0497143268585205, Validation Accuracy: 0.4923999309539795\n",
      "Epoch  6, CIFAR-10 Batch 3:  Loss/Cost: 0.9443469047546387, Validation Accuracy: 0.5001999139785767\n",
      "Epoch  6, CIFAR-10 Batch 4:  Loss/Cost: 1.1664657592773438, Validation Accuracy: 0.49859991669654846\n",
      "Epoch  6, CIFAR-10 Batch 5:  Loss/Cost: 1.2436959743499756, Validation Accuracy: 0.5003999471664429\n",
      "Epoch  7, CIFAR-10 Batch 1:  Loss/Cost: 1.255902647972107, Validation Accuracy: 0.5021999478340149\n",
      "Epoch  7, CIFAR-10 Batch 2:  Loss/Cost: 1.1606510877609253, Validation Accuracy: 0.4931999742984772\n",
      "Epoch  7, CIFAR-10 Batch 3:  Loss/Cost: 1.042925477027893, Validation Accuracy: 0.4915999174118042\n",
      "Epoch  7, CIFAR-10 Batch 4:  Loss/Cost: 1.1199209690093994, Validation Accuracy: 0.504599928855896\n",
      "Epoch  7, CIFAR-10 Batch 5:  Loss/Cost: 1.211715579032898, Validation Accuracy: 0.500999927520752\n",
      "Epoch  8, CIFAR-10 Batch 1:  Loss/Cost: 1.2313076257705688, Validation Accuracy: 0.5165998935699463\n",
      "Epoch  8, CIFAR-10 Batch 2:  Loss/Cost: 1.1107670068740845, Validation Accuracy: 0.5015999674797058\n",
      "Epoch  8, CIFAR-10 Batch 3:  Loss/Cost: 0.9762934446334839, Validation Accuracy: 0.5133999586105347\n",
      "Epoch  8, CIFAR-10 Batch 4:  Loss/Cost: 1.1877914667129517, Validation Accuracy: 0.5167999267578125\n",
      "Epoch  8, CIFAR-10 Batch 5:  Loss/Cost: 0.9954143166542053, Validation Accuracy: 0.5193999409675598\n",
      "Epoch  9, CIFAR-10 Batch 1:  Loss/Cost: 1.1255450248718262, Validation Accuracy: 0.5079998970031738\n",
      "Epoch  9, CIFAR-10 Batch 2:  Loss/Cost: 0.806508481502533, Validation Accuracy: 0.5173999071121216\n",
      "Epoch  9, CIFAR-10 Batch 3:  Loss/Cost: 1.1137335300445557, Validation Accuracy: 0.5067999362945557\n",
      "Epoch  9, CIFAR-10 Batch 4:  Loss/Cost: 0.9356962442398071, Validation Accuracy: 0.5187999606132507\n",
      "Epoch  9, CIFAR-10 Batch 5:  Loss/Cost: 1.0051748752593994, Validation Accuracy: 0.5273999571800232\n",
      "Epoch 10, CIFAR-10 Batch 1:  Loss/Cost: 1.025963544845581, Validation Accuracy: 0.5281999707221985\n",
      "Epoch 10, CIFAR-10 Batch 2:  Loss/Cost: 0.8141911625862122, Validation Accuracy: 0.5151998996734619\n",
      "Epoch 10, CIFAR-10 Batch 3:  Loss/Cost: 0.8493959903717041, Validation Accuracy: 0.5265999436378479\n",
      "Epoch 10, CIFAR-10 Batch 4:  Loss/Cost: 0.9112450480461121, Validation Accuracy: 0.5179999470710754\n",
      "Epoch 10, CIFAR-10 Batch 5:  Loss/Cost: 1.050359845161438, Validation Accuracy: 0.5185999274253845\n",
      "Epoch 11, CIFAR-10 Batch 1:  Loss/Cost: 1.1695548295974731, Validation Accuracy: 0.5291998982429504\n",
      "Epoch 11, CIFAR-10 Batch 2:  Loss/Cost: 0.8509725332260132, Validation Accuracy: 0.5271999835968018\n",
      "Epoch 11, CIFAR-10 Batch 3:  Loss/Cost: 0.7506347298622131, Validation Accuracy: 0.521399974822998\n",
      "Epoch 11, CIFAR-10 Batch 4:  Loss/Cost: 0.8778975009918213, Validation Accuracy: 0.5183999538421631\n",
      "Epoch 11, CIFAR-10 Batch 5:  Loss/Cost: 0.9881733655929565, Validation Accuracy: 0.5115999579429626\n",
      "Epoch 12, CIFAR-10 Batch 1:  Loss/Cost: 1.068009376525879, Validation Accuracy: 0.527199923992157\n",
      "Epoch 12, CIFAR-10 Batch 2:  Loss/Cost: 0.8571304082870483, Validation Accuracy: 0.5157999396324158\n",
      "Epoch 12, CIFAR-10 Batch 3:  Loss/Cost: 0.8842503428459167, Validation Accuracy: 0.5261999368667603\n",
      "Epoch 12, CIFAR-10 Batch 4:  Loss/Cost: 0.9106442332267761, Validation Accuracy: 0.5303999185562134\n",
      "Epoch 12, CIFAR-10 Batch 5:  Loss/Cost: 1.0413755178451538, Validation Accuracy: 0.5273999571800232\n",
      "Epoch 13, CIFAR-10 Batch 1:  Loss/Cost: 0.9276977777481079, Validation Accuracy: 0.5313999652862549\n",
      "Epoch 13, CIFAR-10 Batch 2:  Loss/Cost: 0.8204755187034607, Validation Accuracy: 0.5257999300956726\n",
      "Epoch 13, CIFAR-10 Batch 3:  Loss/Cost: 0.9382257461547852, Validation Accuracy: 0.525399923324585\n",
      "Epoch 13, CIFAR-10 Batch 4:  Loss/Cost: 0.9226630926132202, Validation Accuracy: 0.533799946308136\n",
      "Epoch 13, CIFAR-10 Batch 5:  Loss/Cost: 0.9033409357070923, Validation Accuracy: 0.5248000025749207\n",
      "Epoch 14, CIFAR-10 Batch 1:  Loss/Cost: 0.8503748178482056, Validation Accuracy: 0.5371999144554138\n",
      "Epoch 14, CIFAR-10 Batch 2:  Loss/Cost: 0.7518661022186279, Validation Accuracy: 0.5271999835968018\n",
      "Epoch 14, CIFAR-10 Batch 3:  Loss/Cost: 0.7957648038864136, Validation Accuracy: 0.5433999300003052\n",
      "Epoch 14, CIFAR-10 Batch 4:  Loss/Cost: 1.0147935152053833, Validation Accuracy: 0.520799994468689\n",
      "Epoch 14, CIFAR-10 Batch 5:  Loss/Cost: 0.7457912564277649, Validation Accuracy: 0.5369999408721924\n",
      "Epoch 15, CIFAR-10 Batch 1:  Loss/Cost: 1.0069001913070679, Validation Accuracy: 0.5381999611854553\n",
      "Epoch 15, CIFAR-10 Batch 2:  Loss/Cost: 0.7762317657470703, Validation Accuracy: 0.5297999382019043\n",
      "Epoch 15, CIFAR-10 Batch 3:  Loss/Cost: 0.7702673673629761, Validation Accuracy: 0.5341999530792236\n",
      "Epoch 15, CIFAR-10 Batch 4:  Loss/Cost: 0.8160219788551331, Validation Accuracy: 0.5371999144554138\n",
      "Epoch 15, CIFAR-10 Batch 5:  Loss/Cost: 1.0025163888931274, Validation Accuracy: 0.5329999327659607\n",
      "Epoch 16, CIFAR-10 Batch 1:  Loss/Cost: 0.9700099229812622, Validation Accuracy: 0.5391998887062073\n",
      "Epoch 16, CIFAR-10 Batch 2:  Loss/Cost: 0.7993553280830383, Validation Accuracy: 0.5253999829292297\n",
      "Epoch 16, CIFAR-10 Batch 3:  Loss/Cost: 0.7412478923797607, Validation Accuracy: 0.5395999550819397\n",
      "Epoch 16, CIFAR-10 Batch 4:  Loss/Cost: 0.8927037715911865, Validation Accuracy: 0.5455999374389648\n",
      "Epoch 16, CIFAR-10 Batch 5:  Loss/Cost: 0.8290945291519165, Validation Accuracy: 0.5471999645233154\n",
      "Epoch 17, CIFAR-10 Batch 1:  Loss/Cost: 0.9906866550445557, Validation Accuracy: 0.5341999530792236\n",
      "Epoch 17, CIFAR-10 Batch 2:  Loss/Cost: 0.6934524774551392, Validation Accuracy: 0.5309998989105225\n",
      "Epoch 17, CIFAR-10 Batch 3:  Loss/Cost: 0.6887369751930237, Validation Accuracy: 0.5451999306678772\n",
      "Epoch 17, CIFAR-10 Batch 4:  Loss/Cost: 0.777738630771637, Validation Accuracy: 0.5437999367713928\n",
      "Epoch 17, CIFAR-10 Batch 5:  Loss/Cost: 0.8059369325637817, Validation Accuracy: 0.5343999862670898\n",
      "Epoch 18, CIFAR-10 Batch 1:  Loss/Cost: 1.0022931098937988, Validation Accuracy: 0.5461999177932739\n",
      "Epoch 18, CIFAR-10 Batch 2:  Loss/Cost: 0.7884295582771301, Validation Accuracy: 0.5363999605178833\n",
      "Epoch 18, CIFAR-10 Batch 3:  Loss/Cost: 0.7040146589279175, Validation Accuracy: 0.5423998832702637\n",
      "Epoch 18, CIFAR-10 Batch 4:  Loss/Cost: 0.7838222980499268, Validation Accuracy: 0.5393999814987183\n",
      "Epoch 18, CIFAR-10 Batch 5:  Loss/Cost: 0.818649411201477, Validation Accuracy: 0.53739994764328\n",
      "Epoch 19, CIFAR-10 Batch 1:  Loss/Cost: 0.9486196041107178, Validation Accuracy: 0.5391998887062073\n",
      "Epoch 19, CIFAR-10 Batch 2:  Loss/Cost: 0.6146930456161499, Validation Accuracy: 0.5238000154495239\n",
      "Epoch 19, CIFAR-10 Batch 3:  Loss/Cost: 0.6442246437072754, Validation Accuracy: 0.5449999570846558\n",
      "Epoch 19, CIFAR-10 Batch 4:  Loss/Cost: 0.7442756295204163, Validation Accuracy: 0.5513999462127686\n",
      "Epoch 19, CIFAR-10 Batch 5:  Loss/Cost: 0.8114694356918335, Validation Accuracy: 0.5345999002456665\n",
      "Epoch 20, CIFAR-10 Batch 1:  Loss/Cost: 0.8445776700973511, Validation Accuracy: 0.5309998989105225\n",
      "Epoch 20, CIFAR-10 Batch 2:  Loss/Cost: 0.83594810962677, Validation Accuracy: 0.5395999550819397\n",
      "Epoch 20, CIFAR-10 Batch 3:  Loss/Cost: 0.6013815999031067, Validation Accuracy: 0.5505999326705933\n",
      "Epoch 20, CIFAR-10 Batch 4:  Loss/Cost: 0.7974766492843628, Validation Accuracy: 0.5443999171257019\n",
      "Epoch 20, CIFAR-10 Batch 5:  Loss/Cost: 0.8120635747909546, Validation Accuracy: 0.5401999354362488\n",
      "Epoch 21, CIFAR-10 Batch 1:  Loss/Cost: 0.7847540378570557, Validation Accuracy: 0.5347999334335327\n",
      "Epoch 21, CIFAR-10 Batch 2:  Loss/Cost: 0.5947483777999878, Validation Accuracy: 0.5409999489784241\n",
      "Epoch 21, CIFAR-10 Batch 3:  Loss/Cost: 0.4743049740791321, Validation Accuracy: 0.5461999177932739\n",
      "Epoch 21, CIFAR-10 Batch 4:  Loss/Cost: 0.7548781037330627, Validation Accuracy: 0.5321999192237854\n",
      "Epoch 21, CIFAR-10 Batch 5:  Loss/Cost: 0.6390385627746582, Validation Accuracy: 0.5381999015808105\n",
      "Epoch 22, CIFAR-10 Batch 1:  Loss/Cost: 0.8347737789154053, Validation Accuracy: 0.5569999814033508\n",
      "Epoch 22, CIFAR-10 Batch 2:  Loss/Cost: 0.6515138149261475, Validation Accuracy: 0.5469999313354492\n",
      "Epoch 22, CIFAR-10 Batch 3:  Loss/Cost: 0.5957337617874146, Validation Accuracy: 0.5421999096870422\n",
      "Epoch 22, CIFAR-10 Batch 4:  Loss/Cost: 0.7252298593521118, Validation Accuracy: 0.558199942111969\n",
      "Epoch 22, CIFAR-10 Batch 5:  Loss/Cost: 0.598851203918457, Validation Accuracy: 0.5543999075889587\n",
      "Epoch 23, CIFAR-10 Batch 1:  Loss/Cost: 0.7580702304840088, Validation Accuracy: 0.531999945640564\n",
      "Epoch 23, CIFAR-10 Batch 2:  Loss/Cost: 0.5564825534820557, Validation Accuracy: 0.5449999570846558\n",
      "Epoch 23, CIFAR-10 Batch 3:  Loss/Cost: 0.5782252550125122, Validation Accuracy: 0.5499999523162842\n",
      "Epoch 23, CIFAR-10 Batch 4:  Loss/Cost: 0.6054301261901855, Validation Accuracy: 0.5427999496459961\n",
      "Epoch 23, CIFAR-10 Batch 5:  Loss/Cost: 0.6442086696624756, Validation Accuracy: 0.5489999055862427\n",
      "Epoch 24, CIFAR-10 Batch 1:  Loss/Cost: 0.6474237442016602, Validation Accuracy: 0.554599940776825\n",
      "Epoch 24, CIFAR-10 Batch 2:  Loss/Cost: 0.6444776654243469, Validation Accuracy: 0.5293999314308167\n",
      "Epoch 24, CIFAR-10 Batch 3:  Loss/Cost: 0.7350034117698669, Validation Accuracy: 0.5511999130249023\n",
      "Epoch 24, CIFAR-10 Batch 4:  Loss/Cost: 0.7042346000671387, Validation Accuracy: 0.5493999123573303\n",
      "Epoch 24, CIFAR-10 Batch 5:  Loss/Cost: 0.7490445971488953, Validation Accuracy: 0.555199921131134\n",
      "Epoch 25, CIFAR-10 Batch 1:  Loss/Cost: 0.6191146373748779, Validation Accuracy: 0.5491998791694641\n",
      "Epoch 25, CIFAR-10 Batch 2:  Loss/Cost: 0.45644259452819824, Validation Accuracy: 0.5401999354362488\n",
      "Epoch 25, CIFAR-10 Batch 3:  Loss/Cost: 0.7363428473472595, Validation Accuracy: 0.5487998723983765\n",
      "Epoch 25, CIFAR-10 Batch 4:  Loss/Cost: 0.7434448003768921, Validation Accuracy: 0.5427999496459961\n",
      "Epoch 25, CIFAR-10 Batch 5:  Loss/Cost: 0.6871216297149658, Validation Accuracy: 0.5477999448776245\n",
      "Epoch 26, CIFAR-10 Batch 1:  Loss/Cost: 0.6466723084449768, Validation Accuracy: 0.5505999326705933\n",
      "Epoch 26, CIFAR-10 Batch 2:  Loss/Cost: 0.42571941018104553, Validation Accuracy: 0.5499999523162842\n",
      "Epoch 26, CIFAR-10 Batch 3:  Loss/Cost: 0.5660501718521118, Validation Accuracy: 0.5399999618530273\n",
      "Epoch 26, CIFAR-10 Batch 4:  Loss/Cost: 0.7566500306129456, Validation Accuracy: 0.5561999678611755\n",
      "Epoch 26, CIFAR-10 Batch 5:  Loss/Cost: 0.7106027007102966, Validation Accuracy: 0.5447999238967896\n",
      "Epoch 27, CIFAR-10 Batch 1:  Loss/Cost: 0.6576839089393616, Validation Accuracy: 0.5385999083518982\n",
      "Epoch 27, CIFAR-10 Batch 2:  Loss/Cost: 0.6139829754829407, Validation Accuracy: 0.5353999733924866\n",
      "Epoch 27, CIFAR-10 Batch 3:  Loss/Cost: 0.6050514578819275, Validation Accuracy: 0.5553999543190002\n",
      "Epoch 27, CIFAR-10 Batch 4:  Loss/Cost: 0.5920253992080688, Validation Accuracy: 0.5435999631881714\n",
      "Epoch 27, CIFAR-10 Batch 5:  Loss/Cost: 0.8343349099159241, Validation Accuracy: 0.5559998750686646\n",
      "Epoch 28, CIFAR-10 Batch 1:  Loss/Cost: 0.6665713787078857, Validation Accuracy: 0.5427999496459961\n",
      "Epoch 28, CIFAR-10 Batch 2:  Loss/Cost: 0.582556426525116, Validation Accuracy: 0.5483999252319336\n",
      "Epoch 28, CIFAR-10 Batch 3:  Loss/Cost: 0.5474298000335693, Validation Accuracy: 0.5595998764038086\n",
      "Epoch 28, CIFAR-10 Batch 4:  Loss/Cost: 0.6045193672180176, Validation Accuracy: 0.5487999320030212\n",
      "Epoch 28, CIFAR-10 Batch 5:  Loss/Cost: 0.5953852534294128, Validation Accuracy: 0.556399941444397\n",
      "Epoch 29, CIFAR-10 Batch 1:  Loss/Cost: 0.7027608156204224, Validation Accuracy: 0.5361999273300171\n",
      "Epoch 29, CIFAR-10 Batch 2:  Loss/Cost: 0.5958781242370605, Validation Accuracy: 0.5493999719619751\n",
      "Epoch 29, CIFAR-10 Batch 3:  Loss/Cost: 0.5585931539535522, Validation Accuracy: 0.5491999387741089\n",
      "Epoch 29, CIFAR-10 Batch 4:  Loss/Cost: 0.5352561473846436, Validation Accuracy: 0.5501999258995056\n",
      "Epoch 29, CIFAR-10 Batch 5:  Loss/Cost: 0.6252856850624084, Validation Accuracy: 0.5473998785018921\n",
      "Epoch 30, CIFAR-10 Batch 1:  Loss/Cost: 0.9081639647483826, Validation Accuracy: 0.5387999415397644\n",
      "Epoch 30, CIFAR-10 Batch 2:  Loss/Cost: 0.41919001936912537, Validation Accuracy: 0.5491999387741089\n",
      "Epoch 30, CIFAR-10 Batch 3:  Loss/Cost: 0.6660457253456116, Validation Accuracy: 0.5465999841690063\n",
      "Epoch 30, CIFAR-10 Batch 4:  Loss/Cost: 0.7987242341041565, Validation Accuracy: 0.5337998867034912\n",
      "Epoch 30, CIFAR-10 Batch 5:  Loss/Cost: 0.6080517768859863, Validation Accuracy: 0.5427999496459961\n",
      "Epoch 31, CIFAR-10 Batch 1:  Loss/Cost: 0.6303702592849731, Validation Accuracy: 0.5491999387741089\n",
      "Epoch 31, CIFAR-10 Batch 2:  Loss/Cost: 0.4239986538887024, Validation Accuracy: 0.546799898147583\n",
      "Epoch 31, CIFAR-10 Batch 3:  Loss/Cost: 0.4336414933204651, Validation Accuracy: 0.5539999604225159\n",
      "Epoch 31, CIFAR-10 Batch 4:  Loss/Cost: 0.5039715766906738, Validation Accuracy: 0.55159991979599\n",
      "Epoch 31, CIFAR-10 Batch 5:  Loss/Cost: 0.6505630016326904, Validation Accuracy: 0.5475999116897583\n",
      "Epoch 32, CIFAR-10 Batch 1:  Loss/Cost: 0.5998819470405579, Validation Accuracy: 0.5357999801635742\n",
      "Epoch 32, CIFAR-10 Batch 2:  Loss/Cost: 0.5238341689109802, Validation Accuracy: 0.5401999354362488\n",
      "Epoch 32, CIFAR-10 Batch 3:  Loss/Cost: 0.5422489643096924, Validation Accuracy: 0.5603999495506287\n",
      "Epoch 32, CIFAR-10 Batch 4:  Loss/Cost: 0.6825093030929565, Validation Accuracy: 0.5423999428749084\n",
      "Epoch 32, CIFAR-10 Batch 5:  Loss/Cost: 0.6974719166755676, Validation Accuracy: 0.5549999475479126\n",
      "Epoch 33, CIFAR-10 Batch 1:  Loss/Cost: 0.5272668600082397, Validation Accuracy: 0.5527999401092529\n",
      "Epoch 33, CIFAR-10 Batch 2:  Loss/Cost: 0.628491222858429, Validation Accuracy: 0.5565999746322632\n",
      "Epoch 33, CIFAR-10 Batch 3:  Loss/Cost: 0.44308698177337646, Validation Accuracy: 0.5481999516487122\n",
      "Epoch 33, CIFAR-10 Batch 4:  Loss/Cost: 0.4820866882801056, Validation Accuracy: 0.5463999509811401\n",
      "Epoch 33, CIFAR-10 Batch 5:  Loss/Cost: 0.42470699548721313, Validation Accuracy: 0.554599940776825\n",
      "Epoch 34, CIFAR-10 Batch 1:  Loss/Cost: 0.712844729423523, Validation Accuracy: 0.5445998907089233\n",
      "Epoch 34, CIFAR-10 Batch 2:  Loss/Cost: 0.5856777429580688, Validation Accuracy: 0.5505999326705933\n",
      "Epoch 34, CIFAR-10 Batch 3:  Loss/Cost: 0.5266053676605225, Validation Accuracy: 0.5493999719619751\n",
      "Epoch 34, CIFAR-10 Batch 4:  Loss/Cost: 0.5930702090263367, Validation Accuracy: 0.5501999258995056\n",
      "Epoch 34, CIFAR-10 Batch 5:  Loss/Cost: 0.49929776787757874, Validation Accuracy: 0.5553998947143555\n",
      "Epoch 35, CIFAR-10 Batch 1:  Loss/Cost: 0.7650079727172852, Validation Accuracy: 0.5401999354362488\n",
      "Epoch 35, CIFAR-10 Batch 2:  Loss/Cost: 0.45544344186782837, Validation Accuracy: 0.5567999482154846\n",
      "Epoch 35, CIFAR-10 Batch 3:  Loss/Cost: 0.43976885080337524, Validation Accuracy: 0.562999963760376\n",
      "Epoch 35, CIFAR-10 Batch 4:  Loss/Cost: 0.4036933183670044, Validation Accuracy: 0.5525999665260315\n",
      "Epoch 35, CIFAR-10 Batch 5:  Loss/Cost: 0.5033661127090454, Validation Accuracy: 0.5539999008178711\n",
      "Epoch 36, CIFAR-10 Batch 1:  Loss/Cost: 0.58245849609375, Validation Accuracy: 0.5447999238967896\n",
      "Epoch 36, CIFAR-10 Batch 2:  Loss/Cost: 0.4811171591281891, Validation Accuracy: 0.5515999794006348\n",
      "Epoch 36, CIFAR-10 Batch 3:  Loss/Cost: 0.596228837966919, Validation Accuracy: 0.5537999272346497\n",
      "Epoch 36, CIFAR-10 Batch 4:  Loss/Cost: 0.5562592148780823, Validation Accuracy: 0.5607999563217163\n",
      "Epoch 36, CIFAR-10 Batch 5:  Loss/Cost: 0.46795815229415894, Validation Accuracy: 0.5397999286651611\n",
      "Epoch 37, CIFAR-10 Batch 1:  Loss/Cost: 0.7790591716766357, Validation Accuracy: 0.5321999192237854\n",
      "Epoch 37, CIFAR-10 Batch 2:  Loss/Cost: 0.463279664516449, Validation Accuracy: 0.5477999448776245\n",
      "Epoch 37, CIFAR-10 Batch 3:  Loss/Cost: 0.4112425744533539, Validation Accuracy: 0.5499999523162842\n",
      "Epoch 37, CIFAR-10 Batch 4:  Loss/Cost: 0.5385224223136902, Validation Accuracy: 0.5399999618530273\n",
      "Epoch 37, CIFAR-10 Batch 5:  Loss/Cost: 0.4309864640235901, Validation Accuracy: 0.5463999509811401\n",
      "Epoch 38, CIFAR-10 Batch 1:  Loss/Cost: 0.4674813747406006, Validation Accuracy: 0.5407999753952026\n",
      "Epoch 38, CIFAR-10 Batch 2:  Loss/Cost: 0.5626929998397827, Validation Accuracy: 0.5427999496459961\n",
      "Epoch 38, CIFAR-10 Batch 3:  Loss/Cost: 0.523065984249115, Validation Accuracy: 0.5547999143600464\n",
      "Epoch 38, CIFAR-10 Batch 4:  Loss/Cost: 0.6032987236976624, Validation Accuracy: 0.548799991607666\n",
      "Epoch 38, CIFAR-10 Batch 5:  Loss/Cost: 0.5670871734619141, Validation Accuracy: 0.5597999095916748\n",
      "Epoch 39, CIFAR-10 Batch 1:  Loss/Cost: 0.6689918041229248, Validation Accuracy: 0.547999918460846\n",
      "Epoch 39, CIFAR-10 Batch 2:  Loss/Cost: 0.5925467014312744, Validation Accuracy: 0.5413998961448669\n",
      "Epoch 39, CIFAR-10 Batch 3:  Loss/Cost: 0.3555777072906494, Validation Accuracy: 0.5481999516487122\n",
      "Epoch 39, CIFAR-10 Batch 4:  Loss/Cost: 0.6031017899513245, Validation Accuracy: 0.5547999143600464\n",
      "Epoch 39, CIFAR-10 Batch 5:  Loss/Cost: 0.5518379807472229, Validation Accuracy: 0.5447999238967896\n",
      "Epoch 40, CIFAR-10 Batch 1:  Loss/Cost: 0.5624094605445862, Validation Accuracy: 0.5443998575210571\n",
      "Epoch 40, CIFAR-10 Batch 2:  Loss/Cost: 0.39597806334495544, Validation Accuracy: 0.5353999137878418\n",
      "Epoch 40, CIFAR-10 Batch 3:  Loss/Cost: 0.487123042345047, Validation Accuracy: 0.5491999387741089\n",
      "Epoch 40, CIFAR-10 Batch 4:  Loss/Cost: 0.4540374279022217, Validation Accuracy: 0.546799898147583\n",
      "Epoch 40, CIFAR-10 Batch 5:  Loss/Cost: 0.5041249990463257, Validation Accuracy: 0.53739994764328\n",
      "Epoch 41, CIFAR-10 Batch 1:  Loss/Cost: 0.5922832489013672, Validation Accuracy: 0.5465999245643616\n",
      "Epoch 41, CIFAR-10 Batch 2:  Loss/Cost: 0.4676944613456726, Validation Accuracy: 0.5353999733924866\n",
      "Epoch 41, CIFAR-10 Batch 3:  Loss/Cost: 0.5059773325920105, Validation Accuracy: 0.5479999780654907\n",
      "Epoch 41, CIFAR-10 Batch 4:  Loss/Cost: 0.517528235912323, Validation Accuracy: 0.5387999415397644\n",
      "Epoch 41, CIFAR-10 Batch 5:  Loss/Cost: 0.4824899733066559, Validation Accuracy: 0.5463998913764954\n",
      "Epoch 42, CIFAR-10 Batch 1:  Loss/Cost: 0.48021626472473145, Validation Accuracy: 0.5429999828338623\n",
      "Epoch 42, CIFAR-10 Batch 2:  Loss/Cost: 0.35736045241355896, Validation Accuracy: 0.5561999082565308\n",
      "Epoch 42, CIFAR-10 Batch 3:  Loss/Cost: 0.38449326157569885, Validation Accuracy: 0.5531999468803406\n",
      "Epoch 42, CIFAR-10 Batch 4:  Loss/Cost: 0.4938187599182129, Validation Accuracy: 0.5551999807357788\n",
      "Epoch 42, CIFAR-10 Batch 5:  Loss/Cost: 0.3707490563392639, Validation Accuracy: 0.5461999177932739\n",
      "Epoch 43, CIFAR-10 Batch 1:  Loss/Cost: 0.5656263828277588, Validation Accuracy: 0.5365999341011047\n",
      "Epoch 43, CIFAR-10 Batch 2:  Loss/Cost: 0.38734614849090576, Validation Accuracy: 0.5407999753952026\n",
      "Epoch 43, CIFAR-10 Batch 3:  Loss/Cost: 0.40532931685447693, Validation Accuracy: 0.5455999374389648\n",
      "Epoch 43, CIFAR-10 Batch 4:  Loss/Cost: 0.4717681407928467, Validation Accuracy: 0.5531999468803406\n",
      "Epoch 43, CIFAR-10 Batch 5:  Loss/Cost: 0.43160754442214966, Validation Accuracy: 0.5529999732971191\n",
      "Epoch 44, CIFAR-10 Batch 1:  Loss/Cost: 0.5178006887435913, Validation Accuracy: 0.5509999394416809\n",
      "Epoch 44, CIFAR-10 Batch 2:  Loss/Cost: 0.391682893037796, Validation Accuracy: 0.548599898815155\n",
      "Epoch 44, CIFAR-10 Batch 3:  Loss/Cost: 0.43478408455848694, Validation Accuracy: 0.5519999265670776\n",
      "Epoch 44, CIFAR-10 Batch 4:  Loss/Cost: 0.5734612941741943, Validation Accuracy: 0.5531998872756958\n",
      "Epoch 44, CIFAR-10 Batch 5:  Loss/Cost: 0.39818885922431946, Validation Accuracy: 0.5483999252319336\n",
      "Epoch 45, CIFAR-10 Batch 1:  Loss/Cost: 0.6196227073669434, Validation Accuracy: 0.5473999977111816\n",
      "Epoch 45, CIFAR-10 Batch 2:  Loss/Cost: 0.5820601582527161, Validation Accuracy: 0.553399920463562\n",
      "Epoch 45, CIFAR-10 Batch 3:  Loss/Cost: 0.5328856706619263, Validation Accuracy: 0.5547999143600464\n",
      "Epoch 45, CIFAR-10 Batch 4:  Loss/Cost: 0.4628676176071167, Validation Accuracy: 0.5541999340057373\n",
      "Epoch 45, CIFAR-10 Batch 5:  Loss/Cost: 0.38724392652511597, Validation Accuracy: 0.5379999279975891\n"
     ]
    }
   ],
   "source": [
    "\"\"\"\n",
    "DON'T MODIFY ANYTHING IN THIS CELL\n",
    "\"\"\"\n",
    "save_model_path = './image_classification'\n",
    "\n",
    "print('Training...')\n",
    "with tf.Session() as sess:\n",
    "    # Initializing the variables\n",
    "    sess.run(tf.global_variables_initializer())\n",
    "    \n",
    "    # Training cycle\n",
    "    for epoch in range(epochs):\n",
    "        # Loop over all batches\n",
    "        n_batches = 5\n",
    "        for batch_i in range(1, n_batches + 1):\n",
    "            for batch_features, batch_labels in helper.load_preprocess_training_batch(batch_i, batch_size):\n",
    "                train_neural_network(sess, optimizer, keep_probability, batch_features, batch_labels)\n",
    "            print('Epoch {:>2}, CIFAR-10 Batch {}:  '.format(epoch + 1, batch_i), end='')\n",
    "            print_stats(sess, batch_features, batch_labels, cost, accuracy)\n",
    "            \n",
    "    # Save Model\n",
    "    saver = tf.train.Saver()\n",
    "    save_path = saver.save(sess, save_model_path)"
   ]
  },
  {
   "cell_type": "markdown",
   "metadata": {
    "deletable": true,
    "editable": true
   },
   "source": [
    "# Checkpoint\n",
    "The model has been saved to disk.\n",
    "## Test Model\n",
    "Test your model against the test dataset.  This will be your final accuracy. You should have an accuracy greater than 50%. If you don't, keep tweaking the model architecture and parameters."
   ]
  },
  {
   "cell_type": "code",
   "execution_count": 23,
   "metadata": {
    "collapsed": false,
    "deletable": true,
    "editable": true
   },
   "outputs": [
    {
     "name": "stdout",
     "output_type": "stream",
     "text": [
      "Testing Accuracy: 0.5687302215189873\n",
      "\n"
     ]
    },
    {
     "data": {
      "image/png": "[encoded data removed]",
      "text/plain": [
       "<matplotlib.figure.Figure at 0x7fe8f44bd470>"
      ]
     },
     "metadata": {
      "image/png": {
       "height": 319,
       "width": 355
      }
     },
     "output_type": "display_data"
    }
   ],
   "source": [
    "\"\"\"\n",
    "DON'T MODIFY ANYTHING IN THIS CELL\n",
    "\"\"\"\n",
    "%matplotlib inline\n",
    "%config InlineBackend.figure_format = 'retina'\n",
    "\n",
    "import tensorflow as tf\n",
    "import pickle\n",
    "import helper\n",
    "import random\n",
    "\n",
    "# Set batch size if not already set\n",
    "try:\n",
    "    if batch_size:\n",
    "        pass\n",
    "except NameError:\n",
    "    batch_size = 64\n",
    "\n",
    "save_model_path = './image_classification'\n",
    "n_samples = 4\n",
    "top_n_predictions = 3\n",
    "\n",
    "def test_model():\n",
    "    \"\"\"\n",
    "    Test the saved model against the test dataset\n",
    "    \"\"\"\n",
    "\n",
    "    test_features, test_labels = pickle.load(open('preprocess_training.p', mode='rb'))\n",
    "    loaded_graph = tf.Graph()\n",
    "\n",
    "    with tf.Session(graph=loaded_graph) as sess:\n",
    "        # Load model\n",
    "        loader = tf.train.import_meta_graph(save_model_path + '.meta')\n",
    "        loader.restore(sess, save_model_path)\n",
    "\n",
    "        # Get Tensors from loaded model\n",
    "        loaded_x = loaded_graph.get_tensor_by_name('x:0')\n",
    "        loaded_y = loaded_graph.get_tensor_by_name('y:0')\n",
    "        loaded_keep_prob = loaded_graph.get_tensor_by_name('keep_prob:0')\n",
    "        loaded_logits = loaded_graph.get_tensor_by_name('logits:0')\n",
    "        loaded_acc = loaded_graph.get_tensor_by_name('accuracy:0')\n",
    "        \n",
    "        # Get accuracy in batches for memory limitations\n",
    "        test_batch_acc_total = 0\n",
    "        test_batch_count = 0\n",
    "        \n",
    "        for train_feature_batch, train_label_batch in helper.batch_features_labels(test_features, test_labels, batch_size):\n",
    "            test_batch_acc_total += sess.run(\n",
    "                loaded_acc,\n",
    "                feed_dict={loaded_x: train_feature_batch, loaded_y: train_label_batch, loaded_keep_prob: 1.0})\n",
    "            test_batch_count += 1\n",
    "\n",
    "        print('Testing Accuracy: {}\\n'.format(test_batch_acc_total/test_batch_count))\n",
    "\n",
    "        # Print Random Samples\n",
    "        random_test_features, random_test_labels = tuple(zip(*random.sample(list(zip(test_features, test_labels)), n_samples)))\n",
    "        random_test_predictions = sess.run(\n",
    "            tf.nn.top_k(tf.nn.softmax(loaded_logits), top_n_predictions),\n",
    "            feed_dict={loaded_x: random_test_features, loaded_y: random_test_labels, loaded_keep_prob: 1.0})\n",
    "        helper.display_image_predictions(random_test_features, random_test_labels, random_test_predictions)\n",
    "\n",
    "\n",
    "test_model()"
   ]
  },
  {
   "cell_type": "markdown",
   "metadata": {
    "deletable": true,
    "editable": true
   },
   "source": [
    "## Why 50-80% Accuracy?\n",
    "You might be wondering why you can't get an accuracy any higher. First things first, 50% isn't bad for a simple CNN.  Pure guessing would get you 10% accuracy. However, you might notice people are getting scores [well above 80%](http://rodrigob.github.io/are_we_there_yet/build/classification_datasets_results.html#43494641522d3130).  That's because we haven't taught you all there is to know about neural networks. We still need to cover a few more techniques.\n",
    "## Submitting This Project\n",
    "When submitting this project, make sure to run all the cells before saving the notebook.  Save the notebook file as \"dlnd_image_classification.ipynb\" and save it as a HTML file under \"File\" -> \"Download as\".  Include the \"helper.py\" and \"problem_unittests.py\" files in your submission."
   ]
  }
 ],
 "metadata": {
  "kernelspec": {
   "display_name": "Python 3",
   "language": "python",
   "name": "python3"
  },
  "language_info": {
   "codemirror_mode": {
    "name": "ipython",
    "version": 3
   },
   "file_extension": ".py",
   "mimetype": "text/x-python",
   "name": "python",
   "nbconvert_exporter": "python",
   "pygments_lexer": "ipython3",
   "version": "3.5.2"
  },
  "widgets": {
   "state": {},
   "version": "1.1.2"
  }
 },
 "nbformat": 4,
 "nbformat_minor": 0
}

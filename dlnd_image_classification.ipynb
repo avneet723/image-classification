{
 "cells": [
  {
   "cell_type": "markdown",
   "metadata": {
    "collapsed": true,
    "deletable": true,
    "editable": true
   },
   "source": [
    "# Image Classification\n",
    "In this project, you'll classify images from the [CIFAR-10 dataset](https://www.cs.toronto.edu/~kriz/cifar.html).  The dataset consists of airplanes, dogs, cats, and other objects. You'll preprocess the images, then train a convolutional neural network on all the samples. The images need to be normalized and the labels need to be one-hot encoded.  You'll get to apply what you learned and build a convolutional, max pooling, dropout, and fully connected layers.  At the end, you'll get to see your neural network's predictions on the sample images.\n",
    "## Get the Data\n",
    "Run the following cell to download the [CIFAR-10 dataset for python](https://www.cs.toronto.edu/~kriz/cifar-10-python.tar.gz)."
   ]
  },
  {
   "cell_type": "code",
   "execution_count": 10,
   "metadata": {
    "collapsed": false,
    "deletable": true,
    "editable": true
   },
   "outputs": [
    {
     "name": "stdout",
     "output_type": "stream",
     "text": [
      "All files found!\n"
     ]
    }
   ],
   "source": [
    "\"\"\"\n",
    "DON'T MODIFY ANYTHING IN THIS CELL THAT IS BELOW THIS LINE\n",
    "\"\"\"\n",
    "from urllib.request import urlretrieve\n",
    "from os.path import isfile, isdir\n",
    "from tqdm import tqdm\n",
    "import problem_unittests as tests\n",
    "import tarfile\n",
    "\n",
    "cifar10_dataset_folder_path = 'cifar-10-batches-py'\n",
    "\n",
    "class DLProgress(tqdm):\n",
    "    last_block = 0\n",
    "\n",
    "    def hook(self, block_num=1, block_size=1, total_size=None):\n",
    "        self.total = total_size\n",
    "        self.update((block_num - self.last_block) * block_size)\n",
    "        self.last_block = block_num\n",
    "\n",
    "if not isfile('cifar-10-python.tar.gz'):\n",
    "    with DLProgress(unit='B', unit_scale=True, miniters=1, desc='CIFAR-10 Dataset') as pbar:\n",
    "        urlretrieve(\n",
    "            'https://www.cs.toronto.edu/~kriz/cifar-10-python.tar.gz',\n",
    "            'cifar-10-python.tar.gz',\n",
    "            pbar.hook)\n",
    "\n",
    "if not isdir(cifar10_dataset_folder_path):\n",
    "    with tarfile.open('cifar-10-python.tar.gz') as tar:\n",
    "        tar.extractall()\n",
    "        tar.close()\n",
    "\n",
    "\n",
    "tests.test_folder_path(cifar10_dataset_folder_path)"
   ]
  },
  {
   "cell_type": "markdown",
   "metadata": {
    "deletable": true,
    "editable": true
   },
   "source": [
    "## Explore the Data\n",
    "The dataset is broken into batches to prevent your machine from running out of memory.  The CIFAR-10 dataset consists of 5 batches, named `data_batch_1`, `data_batch_2`, etc.. Each batch contains the labels and images that are one of the following:\n",
    "* airplane\n",
    "* automobile\n",
    "* bird\n",
    "* cat\n",
    "* deer\n",
    "* dog\n",
    "* frog\n",
    "* horse\n",
    "* ship\n",
    "* truck\n",
    "\n",
    "Understanding a dataset is part of making predictions on the data.  Play around with the code cell below by changing the `batch_id` and `sample_id`. The `batch_id` is the id for a batch (1-5). The `sample_id` is the id for a image and label pair in the batch.\n",
    "\n",
    "Ask yourself \"What are all possible labels?\", \"What is the range of values for the image data?\", \"Are the labels in order or random?\".  Answers to questions like these will help you preprocess the data and end up with better predictions."
   ]
  },
  {
   "cell_type": "code",
   "execution_count": 11,
   "metadata": {
    "collapsed": false,
    "deletable": true,
    "editable": true
   },
   "outputs": [
    {
     "name": "stdout",
     "output_type": "stream",
     "text": [
      "\n",
      "Stats of batch 3:\n",
      "Samples: 10000\n",
      "Label Counts: {0: 994, 1: 1042, 2: 965, 3: 997, 4: 990, 5: 1029, 6: 978, 7: 1015, 8: 961, 9: 1029}\n",
      "First 20 Labels: [8, 5, 0, 6, 9, 2, 8, 3, 6, 2, 7, 4, 6, 9, 0, 0, 7, 3, 7, 2]\n",
      "\n",
      "Example of Image 20:\n",
      "Image - Min Value: 26 Max Value: 252\n",
      "Image - Shape: (32, 32, 3)\n",
      "Label - Label Id: 5 Name: dog\n"
     ]
    },
    {
     "data": {
      "image/png": "[encoded data removed]",
      "text/plain": [
       "<matplotlib.figure.Figure at 0x7f8af16d8a58>"
      ]
     },
     "metadata": {
      "image/png": {
       "height": 250,
       "width": 253
      }
     },
     "output_type": "display_data"
    }
   ],
   "source": [
    "%matplotlib inline\n",
    "%config InlineBackend.figure_format = 'retina'\n",
    "\n",
    "import helper\n",
    "import numpy as np\n",
    "\n",
    "# Explore the dataset\n",
    "batch_id = 3\n",
    "sample_id = 20\n",
    "helper.display_stats(cifar10_dataset_folder_path, batch_id, sample_id)"
   ]
  },
  {
   "cell_type": "markdown",
   "metadata": {
    "deletable": true,
    "editable": true
   },
   "source": [
    "## Implement Preprocess Functions\n",
    "### Normalize\n",
    "In the cell below, implement the `normalize` function to take in image data, `x`, and return it as a normalized Numpy array. The values should be in the range of 0 to 1, inclusive.  The return object should be the same shape as `x`."
   ]
  },
  {
   "cell_type": "code",
   "execution_count": 12,
   "metadata": {
    "collapsed": false,
    "deletable": true,
    "editable": true
   },
   "outputs": [
    {
     "name": "stdout",
     "output_type": "stream",
     "text": [
      "Tests Passed\n"
     ]
    }
   ],
   "source": [
    "def normalize(x):\n",
    "    \"\"\"\n",
    "    Normalize a list of sample image data in the range of 0 to 1\n",
    "    : x: List of image data.  The image shape is (32, 32, 3)\n",
    "    : return: Numpy array of normalize data\n",
    "    \"\"\"\n",
    "    # TODO: Implement Function\n",
    "    \n",
    "    x = np.array(x)\n",
    "    x_min = x.min()\n",
    "    x_max = x.max()\n",
    "    normal_x = (x - x_min)/(x_max - x_min)\n",
    "    \n",
    "    return normal_x\n",
    "\n",
    "\n",
    "\"\"\"\n",
    "DON'T MODIFY ANYTHING IN THIS CELL THAT IS BELOW THIS LINE\n",
    "\"\"\"\n",
    "tests.test_normalize(normalize)"
   ]
  },
  {
   "cell_type": "markdown",
   "metadata": {
    "deletable": true,
    "editable": true
   },
   "source": [
    "### One-hot encode\n",
    "Just like the previous code cell, you'll be implementing a function for preprocessing.  This time, you'll implement the `one_hot_encode` function. The input, `x`, are a list of labels.  Implement the function to return the list of labels as One-Hot encoded Numpy array.  The possible values for labels are 0 to 9. The one-hot encoding function should return the same encoding for each value between each call to `one_hot_encode`.  Make sure to save the map of encodings outside the function.\n",
    "\n",
    "Hint: Don't reinvent the wheel."
   ]
  },
  {
   "cell_type": "code",
   "execution_count": 13,
   "metadata": {
    "collapsed": false,
    "deletable": true,
    "editable": true
   },
   "outputs": [
    {
     "name": "stdout",
     "output_type": "stream",
     "text": [
      "Tests Passed\n"
     ]
    }
   ],
   "source": [
    "def one_hot_encode(x):\n",
    "    \"\"\"\n",
    "    One hot encode a list of sample labels. Return a one-hot encoded vector for each label.\n",
    "    : x: List of sample Labels\n",
    "    : return: Numpy array of one-hot encoded labels\n",
    "    \"\"\"\n",
    "    # TODO: Implement Function\n",
    "    \n",
    "    # Create a zeros matrix of dimensions len(x) and the highest value of x + 1 (for 0th)\n",
    "    one_hot = np.zeros((len(x), max(x)+1))\n",
    "    \n",
    "    #Evenly space the one_hot values between 0 and len(x)\n",
    "    \n",
    "    one_hot[np.arange(len(x)), x] = 1\n",
    "    \n",
    "    return one_hot\n",
    "\n",
    "\n",
    "\"\"\"\n",
    "DON'T MODIFY ANYTHING IN THIS CELL THAT IS BELOW THIS LINE\n",
    "\"\"\"\n",
    "tests.test_one_hot_encode(one_hot_encode)"
   ]
  },
  {
   "cell_type": "markdown",
   "metadata": {
    "deletable": true,
    "editable": true
   },
   "source": [
    "### Randomize Data\n",
    "As you saw from exploring the data above, the order of the samples are randomized.  It doesn't hurt to randomize it again, but you don't need to for this dataset."
   ]
  },
  {
   "cell_type": "markdown",
   "metadata": {
    "deletable": true,
    "editable": true
   },
   "source": [
    "## Preprocess all the data and save it\n",
    "Running the code cell below will preprocess all the CIFAR-10 data and save it to file. The code below also uses 10% of the training data for validation."
   ]
  },
  {
   "cell_type": "code",
   "execution_count": 14,
   "metadata": {
    "collapsed": false,
    "deletable": true,
    "editable": true
   },
   "outputs": [],
   "source": [
    "\"\"\"\n",
    "DON'T MODIFY ANYTHING IN THIS CELL\n",
    "\"\"\"\n",
    "# Preprocess Training, Validation, and Testing Data\n",
    "helper.preprocess_and_save_data(cifar10_dataset_folder_path, normalize, one_hot_encode)"
   ]
  },
  {
   "cell_type": "markdown",
   "metadata": {
    "deletable": true,
    "editable": true
   },
   "source": [
    "# Check Point\n",
    "This is your first checkpoint.  If you ever decide to come back to this notebook or have to restart the notebook, you can start from here.  The preprocessed data has been saved to disk."
   ]
  },
  {
   "cell_type": "code",
   "execution_count": 15,
   "metadata": {
    "collapsed": false,
    "deletable": true,
    "editable": true
   },
   "outputs": [],
   "source": [
    "\"\"\"\n",
    "DON'T MODIFY ANYTHING IN THIS CELL\n",
    "\"\"\"\n",
    "import pickle\n",
    "import problem_unittests as tests\n",
    "import helper\n",
    "\n",
    "# Load the Preprocessed Validation data\n",
    "valid_features, valid_labels = pickle.load(open('preprocess_validation.p', mode='rb'))"
   ]
  },
  {
   "cell_type": "markdown",
   "metadata": {
    "deletable": true,
    "editable": true
   },
   "source": [
    "## Build the network\n",
    "For the neural network, you'll build each layer into a function.  Most of the code you've seen has been outside of functions. To test your code more thoroughly, we require that you put each layer in a function.  This allows us to give you better feedback and test for simple mistakes using our unittests before you submit your project.\n",
    "\n",
    ">**Note:** If you're finding it hard to dedicate enough time for this course each week, we've provided a small shortcut to this part of the project. In the next couple of problems, you'll have the option to use classes from the [TensorFlow Layers](https://www.tensorflow.org/api_docs/python/tf/layers) or [TensorFlow Layers (contrib)](https://www.tensorflow.org/api_guides/python/contrib.layers) packages to build each layer, except the layers you build in the \"Convolutional and Max Pooling Layer\" section.  TF Layers is similar to Keras's and TFLearn's abstraction to layers, so it's easy to pickup.\n",
    "\n",
    ">However, if you would like to get the most out of this course, try to solve all the problems _without_ using anything from the TF Layers packages. You **can** still use classes from other packages that happen to have the same name as ones you find in TF Layers! For example, instead of using the TF Layers version of the `conv2d` class, [tf.layers.conv2d](https://www.tensorflow.org/api_docs/python/tf/layers/conv2d), you would want to use the TF Neural Network version of `conv2d`, [tf.nn.conv2d](https://www.tensorflow.org/api_docs/python/tf/nn/conv2d). \n",
    "\n",
    "Let's begin!\n",
    "\n",
    "### Input\n",
    "The neural network needs to read the image data, one-hot encoded labels, and dropout keep probability. Implement the following functions\n",
    "* Implement `neural_net_image_input`\n",
    " * Return a [TF Placeholder](https://www.tensorflow.org/api_docs/python/tf/placeholder)\n",
    " * Set the shape using `image_shape` with batch size set to `None`.\n",
    " * Name the TensorFlow placeholder \"x\" using the TensorFlow `name` parameter in the [TF Placeholder](https://www.tensorflow.org/api_docs/python/tf/placeholder).\n",
    "* Implement `neural_net_label_input`\n",
    " * Return a [TF Placeholder](https://www.tensorflow.org/api_docs/python/tf/placeholder)\n",
    " * Set the shape using `n_classes` with batch size set to `None`.\n",
    " * Name the TensorFlow placeholder \"y\" using the TensorFlow `name` parameter in the [TF Placeholder](https://www.tensorflow.org/api_docs/python/tf/placeholder).\n",
    "* Implement `neural_net_keep_prob_input`\n",
    " * Return a [TF Placeholder](https://www.tensorflow.org/api_docs/python/tf/placeholder) for dropout keep probability.\n",
    " * Name the TensorFlow placeholder \"keep_prob\" using the TensorFlow `name` parameter in the [TF Placeholder](https://www.tensorflow.org/api_docs/python/tf/placeholder).\n",
    "\n",
    "These names will be used at the end of the project to load your saved model.\n",
    "\n",
    "Note: `None` for shapes in TensorFlow allow for a dynamic size."
   ]
  },
  {
   "cell_type": "code",
   "execution_count": 16,
   "metadata": {
    "collapsed": false,
    "deletable": true,
    "editable": true
   },
   "outputs": [
    {
     "name": "stdout",
     "output_type": "stream",
     "text": [
      "Image Input Tests Passed.\n",
      "Label Input Tests Passed.\n",
      "Keep Prob Tests Passed.\n"
     ]
    }
   ],
   "source": [
    "import tensorflow as tf\n",
    "\n",
    "def neural_net_image_input(image_shape):\n",
    "    \"\"\"\n",
    "    Return a Tensor for a batch of image input\n",
    "    : image_shape: Shape of the images\n",
    "    : return: Tensor for image input.\n",
    "    \"\"\"\n",
    "    # TODO: Implement Function\n",
    "    \n",
    "    return tf.placeholder(tf.float32, (None, image_shape[0], image_shape[1], image_shape[2]), name='x')\n",
    "    \n",
    "\n",
    "def neural_net_label_input(n_classes):\n",
    "    \"\"\"\n",
    "    Return a Tensor for a batch of label input\n",
    "    : n_classes: Number of classes\n",
    "    : return: Tensor for label input.\n",
    "    \"\"\"\n",
    "    # TODO: Implement Function\n",
    "    return tf.placeholder(tf.float32, [None, n_classes], name='y')\n",
    "\n",
    "\n",
    "def neural_net_keep_prob_input():\n",
    "    \"\"\"\n",
    "    Return a Tensor for keep probability\n",
    "    : return: Tensor for keep probability.\n",
    "    \"\"\"\n",
    "    # TODO: Implement Function\n",
    "    return tf.placeholder(tf.float32, name='keep_prob')\n",
    "\n",
    "\n",
    "\"\"\"\n",
    "DON'T MODIFY ANYTHING IN THIS CELL THAT IS BELOW THIS LINE\n",
    "\"\"\"\n",
    "tf.reset_default_graph()\n",
    "tests.test_nn_image_inputs(neural_net_image_input)\n",
    "tests.test_nn_label_inputs(neural_net_label_input)\n",
    "tests.test_nn_keep_prob_inputs(neural_net_keep_prob_input)"
   ]
  },
  {
   "cell_type": "markdown",
   "metadata": {
    "deletable": true,
    "editable": true
   },
   "source": [
    "### Convolution and Max Pooling Layer\n",
    "Convolution layers have a lot of success with images. For this code cell, you should implement the function `conv2d_maxpool` to apply convolution then max pooling:\n",
    "* Create the weight and bias using `conv_ksize`, `conv_num_outputs` and the shape of `x_tensor`.\n",
    "* Apply a convolution to `x_tensor` using weight and `conv_strides`.\n",
    " * We recommend you use same padding, but you're welcome to use any padding.\n",
    "* Add bias\n",
    "* Add a nonlinear activation to the convolution.\n",
    "* Apply Max Pooling using `pool_ksize` and `pool_strides`.\n",
    " * We recommend you use same padding, but you're welcome to use any padding.\n",
    "\n",
    "**Note:** You **can't** use [TensorFlow Layers](https://www.tensorflow.org/api_docs/python/tf/layers) or [TensorFlow Layers (contrib)](https://www.tensorflow.org/api_guides/python/contrib.layers) for **this** layer, but you can still use TensorFlow's [Neural Network](https://www.tensorflow.org/api_docs/python/tf/nn) package. You may still use the shortcut option for all the **other** layers."
   ]
  },
  {
   "cell_type": "code",
   "execution_count": 17,
   "metadata": {
    "collapsed": false,
    "deletable": true,
    "editable": true
   },
   "outputs": [
    {
     "name": "stdout",
     "output_type": "stream",
     "text": [
      "Tests Passed\n"
     ]
    }
   ],
   "source": [
    "def conv2d_maxpool(x_tensor, conv_num_outputs, conv_ksize, conv_strides, pool_ksize, pool_strides):\n",
    "    \"\"\"\n",
    "    Apply convolution then max pooling to x_tensor\n",
    "    :param x_tensor: TensorFlow Tensor\n",
    "    :param conv_num_outputs: Number of outputs for the convolutional layer\n",
    "    :param conv_ksize: kernal size 2-D Tuple for the convolutional layer\n",
    "    :param conv_strides: Stride 2-D Tuple for convolution\n",
    "    :param pool_ksize: kernal size 2-D Tuple for pool\n",
    "    :param pool_strides: Stride 2-D Tuple for pool\n",
    "    : return: A tensor that represents convolution and max pooling of x_tensor\n",
    "    \"\"\"\n",
    "    # TODO: Implement Function\n",
    "    \n",
    "    # Define the filter \n",
    "        # Weights\n",
    "    filter_weight = tf.Variable(tf.truncated_normal((conv_ksize[0], conv_ksize[1], \n",
    "                                                     int(x_tensor.shape[3]), conv_num_outputs), stddev=0.1))\n",
    "        # Bias \n",
    "    filter_bias = tf.Variable(tf.zeros([conv_num_outputs]))\n",
    "    \n",
    "    # Convolution Layer\n",
    "        # Remember Strides = [1,2,2,1] = [1, strides[0], strides[1], 1]\n",
    "    conv_layer = tf.nn.conv2d(x_tensor, filter_weight, \n",
    "                              strides=[1, conv_strides[0], conv_strides[1], 1], padding='SAME')\n",
    "        #Add Bias \n",
    "    conv_layer = tf.nn.bias_add(conv_layer, filter_bias)\n",
    "    \n",
    "    # Apply Max Pooling\n",
    "    conv_layer = tf.nn.max_pool(conv_layer, \n",
    "                                ksize = [1, pool_ksize[0], pool_ksize[1], 1], \n",
    "                                strides=[1, pool_strides[0], pool_strides[1], 1], \n",
    "                                padding='SAME')\n",
    "    \n",
    "    # Activate \n",
    "    conv_layer = tf.nn.relu(conv_layer)\n",
    "    \n",
    "    return conv_layer\n",
    "\n",
    "\n",
    "\"\"\"\n",
    "DON'T MODIFY ANYTHING IN THIS CELL THAT IS BELOW THIS LINE\n",
    "\"\"\"\n",
    "tests.test_con_pool(conv2d_maxpool)"
   ]
  },
  {
   "cell_type": "markdown",
   "metadata": {
    "deletable": true,
    "editable": true
   },
   "source": [
    "### Flatten Layer\n",
    "Implement the `flatten` function to change the dimension of `x_tensor` from a 4-D tensor to a 2-D tensor.  The output should be the shape (*Batch Size*, *Flattened Image Size*). Shortcut option: you can use classes from the [TensorFlow Layers](https://www.tensorflow.org/api_docs/python/tf/layers) or [TensorFlow Layers (contrib)](https://www.tensorflow.org/api_guides/python/contrib.layers) packages for this layer. For more of a challenge, only use other TensorFlow packages."
   ]
  },
  {
   "cell_type": "code",
   "execution_count": 18,
   "metadata": {
    "collapsed": false,
    "deletable": true,
    "editable": true
   },
   "outputs": [
    {
     "name": "stdout",
     "output_type": "stream",
     "text": [
      "Tests Passed\n"
     ]
    }
   ],
   "source": [
    "def flatten(x_tensor):\n",
    "    \"\"\"\n",
    "    Flatten x_tensor to (Batch Size, Flattened Image Size)\n",
    "    : x_tensor: A tensor of size (Batch Size, ...), where ... are the image dimensions.\n",
    "    : return: A tensor of size (Batch Size, Flattened Image Size).\n",
    "    \"\"\"\n",
    "    # TODO: Implement Function\n",
    "    \n",
    "    x_tensor = tf.contrib.layers.flatten(x_tensor)\n",
    "    \n",
    "    return x_tensor\n",
    "\n",
    "\n",
    "\"\"\"\n",
    "DON'T MODIFY ANYTHING IN THIS CELL THAT IS BELOW THIS LINE\n",
    "\"\"\"\n",
    "tests.test_flatten(flatten)"
   ]
  },
  {
   "cell_type": "markdown",
   "metadata": {
    "deletable": true,
    "editable": true
   },
   "source": [
    "### Fully-Connected Layer\n",
    "Implement the `fully_conn` function to apply a fully connected layer to `x_tensor` with the shape (*Batch Size*, *num_outputs*). Shortcut option: you can use classes from the [TensorFlow Layers](https://www.tensorflow.org/api_docs/python/tf/layers) or [TensorFlow Layers (contrib)](https://www.tensorflow.org/api_guides/python/contrib.layers) packages for this layer. For more of a challenge, only use other TensorFlow packages."
   ]
  },
  {
   "cell_type": "code",
   "execution_count": 19,
   "metadata": {
    "collapsed": false,
    "deletable": true,
    "editable": true
   },
   "outputs": [
    {
     "name": "stdout",
     "output_type": "stream",
     "text": [
      "Tests Passed\n"
     ]
    }
   ],
   "source": [
    "def fully_conn(x_tensor, num_outputs):\n",
    "    \"\"\"\n",
    "    Apply a fully connected layer to x_tensor using weight and bias\n",
    "    : x_tensor: A 2-D tensor where the first dimension is batch size.\n",
    "    : num_outputs: The number of output that the new tensor should be.\n",
    "    : return: A 2-D tensor where the second dimension is num_outputs.\n",
    "    \"\"\"\n",
    "    # TODO: Implement Function\n",
    "    \n",
    "    # Determine image size, weights and bias \n",
    "    image_shape = x_tensor.get_shape().as_list()\n",
    "    image_size = image_shape[1]\n",
    "    \n",
    "    weights = tf.Variable(tf.truncated_normal([image_size, num_outputs], stddev=0.1))\n",
    "    \n",
    "    bias = tf.Variable(tf.zeros(num_outputs))\n",
    "    \n",
    "    x_tensor_out = tf.add(tf.matmul(x_tensor, weights), bias)\n",
    "\n",
    "    # Activate \n",
    "    x_tensor_out = tf.nn.relu(x_tensor_out)\n",
    "    \n",
    "    return x_tensor_out\n",
    "\n",
    "\"\"\"\n",
    "DON'T MODIFY ANYTHING IN THIS CELL THAT IS BELOW THIS LINE\n",
    "\"\"\"\n",
    "tests.test_fully_conn(fully_conn)"
   ]
  },
  {
   "cell_type": "markdown",
   "metadata": {
    "deletable": true,
    "editable": true
   },
   "source": [
    "### Output Layer\n",
    "Implement the `output` function to apply a fully connected layer to `x_tensor` with the shape (*Batch Size*, *num_outputs*). Shortcut option: you can use classes from the [TensorFlow Layers](https://www.tensorflow.org/api_docs/python/tf/layers) or [TensorFlow Layers (contrib)](https://www.tensorflow.org/api_guides/python/contrib.layers) packages for this layer. For more of a challenge, only use other TensorFlow packages.\n",
    "\n",
    "**Note:** Activation, softmax, or cross entropy should **not** be applied to this."
   ]
  },
  {
   "cell_type": "code",
   "execution_count": 20,
   "metadata": {
    "collapsed": false,
    "deletable": true,
    "editable": true
   },
   "outputs": [
    {
     "name": "stdout",
     "output_type": "stream",
     "text": [
      "Tests Passed\n"
     ]
    }
   ],
   "source": [
    "def output(x_tensor, num_outputs):\n",
    "    \"\"\"\n",
    "    Apply a output layer to x_tensor using weight and bias\n",
    "    : x_tensor: A 2-D tensor where the first dimension is batch size.\n",
    "    : num_outputs: The number of output that the new tensor should be.\n",
    "    : return: A 2-D tensor where the second dimension is num_outputs.\n",
    "    \"\"\"\n",
    "    # TODO: Implement Function\n",
    "    \n",
    "    # Determine image size, weights and bias \n",
    "    image_shape = x_tensor.get_shape().as_list()\n",
    "    image_size = image_shape[1]\n",
    "    \n",
    "    weights = tf.Variable(tf.truncated_normal([image_size, num_outputs], stddev=0.1))\n",
    "    \n",
    "    bias = tf.Variable(tf.zeros(num_outputs))\n",
    "    \n",
    "    x_tensor_out = tf.add(tf.matmul(x_tensor, weights), bias)\n",
    "    \n",
    "    return x_tensor_out\n",
    "\n",
    "\n",
    "\"\"\"\n",
    "DON'T MODIFY ANYTHING IN THIS CELL THAT IS BELOW THIS LINE\n",
    "\"\"\"\n",
    "tests.test_output(output)"
   ]
  },
  {
   "cell_type": "markdown",
   "metadata": {
    "deletable": true,
    "editable": true
   },
   "source": [
    "### Create Convolutional Model\n",
    "Implement the function `conv_net` to create a convolutional neural network model. The function takes in a batch of images, `x`, and outputs logits.  Use the layers you created above to create this model:\n",
    "\n",
    "* Apply 1, 2, or 3 Convolution and Max Pool layers\n",
    "* Apply a Flatten Layer\n",
    "* Apply 1, 2, or 3 Fully Connected Layers\n",
    "* Apply an Output Layer\n",
    "* Return the output\n",
    "* Apply [TensorFlow's Dropout](https://www.tensorflow.org/api_docs/python/tf/nn/dropout) to one or more layers in the model using `keep_prob`. "
   ]
  },
  {
   "cell_type": "code",
   "execution_count": 21,
   "metadata": {
    "collapsed": false,
    "deletable": true,
    "editable": true
   },
   "outputs": [
    {
     "name": "stdout",
     "output_type": "stream",
     "text": [
      "Neural Network Built!\n"
     ]
    }
   ],
   "source": [
    "def conv_net(x, keep_prob):\n",
    "    \"\"\"\n",
    "    Create a convolutional neural network model\n",
    "    : x: Placeholder tensor that holds image data.\n",
    "    : keep_prob: Placeholder tensor that hold dropout keep probability.\n",
    "    : return: Tensor that represents logits\n",
    "    \"\"\"\n",
    "    # TODO: Apply 1, 2, or 3 Convolution and Max Pool layers\n",
    "    #    Play around with different number of outputs, kernel size and stride\n",
    "    # Function Definition from Above:\n",
    "    #    conv2d_maxpool(x_tensor, conv_num_outputs, conv_ksize, conv_strides, pool_ksize, pool_strides)\n",
    "    \n",
    "    x_tensor = x\n",
    "    conv_ksize = [2,2]\n",
    "    conv_strides = [1,1]\n",
    "    pool_ksize = [2,2]\n",
    "    pool_strides = [2,2]\n",
    "    \n",
    "    #Input images are of size 32x32x3\n",
    "    \n",
    "    conv_num_outputs = 32\n",
    "    conv_layer1 = conv2d_maxpool(x_tensor, conv_num_outputs, conv_ksize, conv_strides, pool_ksize, pool_strides)\n",
    "        \n",
    "    conv_num_outputs = 48\n",
    "    conv_layer2 = conv2d_maxpool(x_tensor, conv_num_outputs, conv_ksize, conv_strides, pool_ksize, pool_strides)\n",
    "    \n",
    "    conv_num_outputs = 60\n",
    "    conv_layer3 = conv2d_maxpool(x_tensor, conv_num_outputs, conv_ksize, conv_strides, pool_ksize, pool_strides)\n",
    "    \n",
    "\n",
    "    # TODO: Apply a Flatten Layer\n",
    "    # Function Definition from Above:\n",
    "    #   flatten(x_tensor)\n",
    "\n",
    "    flat = flatten(conv_layer3)\n",
    "\n",
    "    # TODO: Apply 1, 2, or 3 Fully Connected Layers\n",
    "    #    Play around with different number of outputs\n",
    "    # Function Definition from Above:\n",
    "    #   fully_conn(x_tensor, num_outputs)\n",
    "    \n",
    "    num_outputs = 100\n",
    "    full_connect_1 = fully_conn(flat, num_outputs)\n",
    "    \n",
    "    # Dropout layer \n",
    "    full_connect_drop = tf.nn.dropout(full_connect_1, keep_prob)\n",
    "    \n",
    "    \n",
    "    num_outputs = 100\n",
    "    full_connect_2 = fully_conn(full_connect_drop, num_outputs)\n",
    " \n",
    "    # TODO: Apply an Output Layer\n",
    "    #    Set this to the number of classes\n",
    "    # Function Definition from Above:\n",
    "    #   output(x_tensor, num_outputs)\n",
    "    \n",
    "    logits = output(full_connect_2, 10) \n",
    "    \n",
    "    # TODO: return output\n",
    "    return logits\n",
    "\n",
    "\n",
    "\"\"\"\n",
    "DON'T MODIFY ANYTHING IN THIS CELL THAT IS BELOW THIS LINE\n",
    "\"\"\"\n",
    "\n",
    "##############################\n",
    "## Build the Neural Network ##\n",
    "##############################\n",
    "\n",
    "# Remove previous weights, bias, inputs, etc..\n",
    "tf.reset_default_graph()\n",
    "\n",
    "# Inputs\n",
    "x = neural_net_image_input((32, 32, 3))\n",
    "y = neural_net_label_input(10)\n",
    "keep_prob = neural_net_keep_prob_input()\n",
    "\n",
    "# Model\n",
    "logits = conv_net(x, keep_prob)\n",
    "\n",
    "# Name logits Tensor, so that is can be loaded from disk after training\n",
    "logits = tf.identity(logits, name='logits')\n",
    "\n",
    "# Loss and Optimizer\n",
    "cost = tf.reduce_mean(tf.nn.softmax_cross_entropy_with_logits(logits=logits, labels=y))\n",
    "optimizer = tf.train.AdamOptimizer().minimize(cost)\n",
    "\n",
    "# Accuracy\n",
    "correct_pred = tf.equal(tf.argmax(logits, 1), tf.argmax(y, 1))\n",
    "accuracy = tf.reduce_mean(tf.cast(correct_pred, tf.float32), name='accuracy')\n",
    "\n",
    "tests.test_conv_net(conv_net)"
   ]
  },
  {
   "cell_type": "markdown",
   "metadata": {
    "deletable": true,
    "editable": true
   },
   "source": [
    "## Train the Neural Network\n",
    "### Single Optimization\n",
    "Implement the function `train_neural_network` to do a single optimization.  The optimization should use `optimizer` to optimize in `session` with a `feed_dict` of the following:\n",
    "* `x` for image input\n",
    "* `y` for labels\n",
    "* `keep_prob` for keep probability for dropout\n",
    "\n",
    "This function will be called for each batch, so `tf.global_variables_initializer()` has already been called.\n",
    "\n",
    "Note: Nothing needs to be returned. This function is only optimizing the neural network."
   ]
  },
  {
   "cell_type": "code",
   "execution_count": 22,
   "metadata": {
    "collapsed": false,
    "deletable": true,
    "editable": true
   },
   "outputs": [
    {
     "name": "stdout",
     "output_type": "stream",
     "text": [
      "Tests Passed\n"
     ]
    }
   ],
   "source": [
    "def train_neural_network(session, optimizer, keep_probability, feature_batch, label_batch):\n",
    "    \"\"\"\n",
    "    Optimize the session on a batch of images and labels\n",
    "    : session: Current TensorFlow session\n",
    "    : optimizer: TensorFlow optimizer function\n",
    "    : keep_probability: keep probability\n",
    "    : feature_batch: Batch of Numpy image data\n",
    "    : label_batch: Batch of Numpy label data\n",
    "    \"\"\"\n",
    "    # TODO: Implement Function\n",
    "    \n",
    "    # Already called\n",
    "    # sess.run(tf.global_variables_initializer)\n",
    "    session.run(optimizer, feed_dict={x: feature_batch, y:label_batch, keep_prob:keep_probability})\n",
    "\n",
    "\n",
    "\"\"\"\n",
    "DON'T MODIFY ANYTHING IN THIS CELL THAT IS BELOW THIS LINE\n",
    "\"\"\"\n",
    "tests.test_train_nn(train_neural_network)"
   ]
  },
  {
   "cell_type": "markdown",
   "metadata": {
    "deletable": true,
    "editable": true
   },
   "source": [
    "### Show Stats\n",
    "Implement the function `print_stats` to print loss and validation accuracy.  Use the global variables `valid_features` and `valid_labels` to calculate validation accuracy.  Use a keep probability of `1.0` to calculate the loss and validation accuracy."
   ]
  },
  {
   "cell_type": "code",
   "execution_count": 23,
   "metadata": {
    "collapsed": false,
    "deletable": true,
    "editable": true
   },
   "outputs": [],
   "source": [
    "def print_stats(session, feature_batch, label_batch, cost, accuracy):\n",
    "    \"\"\"\n",
    "    Print information about loss and validation accuracy\n",
    "    : session: Current TensorFlow session\n",
    "    : feature_batch: Batch of Numpy image data\n",
    "    : label_batch: Batch of Numpy label data\n",
    "    : cost: TensorFlow cost function\n",
    "    : accuracy: TensorFlow accuracy function\n",
    "    \"\"\"\n",
    "    # TODO: Implement Function\n",
    "    \n",
    "    keep_probility = 1.0\n",
    "    \n",
    "    loss = session.run(cost, feed_dict={x: feature_batch, y:label_batch, keep_prob:keep_probability})\n",
    "    valid_accuracy = session.run(accuracy, feed_dict={x: feature_batch, y:label_batch, keep_prob:keep_probability})\n",
    "    \n",
    "    print(\"Loss/Cost: {}, Validation Accuracy: {}\".format(loss, valid_accuracy))\n",
    "    "
   ]
  },
  {
   "cell_type": "markdown",
   "metadata": {
    "deletable": true,
    "editable": true
   },
   "source": [
    "### Hyperparameters\n",
    "Tune the following parameters:\n",
    "* Set `epochs` to the number of iterations until the network stops learning or start overfitting\n",
    "* Set `batch_size` to the highest number that your machine has memory for.  Most people set them to common sizes of memory:\n",
    " * 64\n",
    " * 128\n",
    " * 256\n",
    " * ...\n",
    "* Set `keep_probability` to the probability of keeping a node using dropout"
   ]
  },
  {
   "cell_type": "code",
   "execution_count": 24,
   "metadata": {
    "collapsed": true,
    "deletable": true,
    "editable": true
   },
   "outputs": [],
   "source": [
    "# TODO: Tune Parameters\n",
    "epochs = 40\n",
    "batch_size = 256 \n",
    "keep_probability = 0.5 # Start at .5"
   ]
  },
  {
   "cell_type": "markdown",
   "metadata": {
    "deletable": true,
    "editable": true
   },
   "source": [
    "### Train on a Single CIFAR-10 Batch\n",
    "Instead of training the neural network on all the CIFAR-10 batches of data, let's use a single batch. This should save time while you iterate on the model to get a better accuracy.  Once the final validation accuracy is 50% or greater, run the model on all the data in the next section."
   ]
  },
  {
   "cell_type": "code",
   "execution_count": 25,
   "metadata": {
    "collapsed": false,
    "deletable": true,
    "editable": true
   },
   "outputs": [
    {
     "name": "stdout",
     "output_type": "stream",
     "text": [
      "Checking the Training on a Single Batch...\n",
      "Epoch  1, CIFAR-10 Batch 1:  Loss/Cost: 2.2807631492614746, Validation Accuracy: 0.17500001192092896\n",
      "Epoch  2, CIFAR-10 Batch 1:  Loss/Cost: 2.065178155899048, Validation Accuracy: 0.15000000596046448\n",
      "Epoch  3, CIFAR-10 Batch 1:  Loss/Cost: 1.931565523147583, Validation Accuracy: 0.3500000238418579\n",
      "Epoch  4, CIFAR-10 Batch 1:  Loss/Cost: 1.8094894886016846, Validation Accuracy: 0.375\n",
      "Epoch  5, CIFAR-10 Batch 1:  Loss/Cost: 1.498497486114502, Validation Accuracy: 0.30000001192092896\n",
      "Epoch  6, CIFAR-10 Batch 1:  Loss/Cost: 1.691118836402893, Validation Accuracy: 0.44999998807907104\n",
      "Epoch  7, CIFAR-10 Batch 1:  Loss/Cost: 1.2284895181655884, Validation Accuracy: 0.5750000476837158\n",
      "Epoch  8, CIFAR-10 Batch 1:  Loss/Cost: 1.2498095035552979, Validation Accuracy: 0.625\n",
      "Epoch  9, CIFAR-10 Batch 1:  Loss/Cost: 1.1921008825302124, Validation Accuracy: 0.6250000596046448\n",
      "Epoch 10, CIFAR-10 Batch 1:  Loss/Cost: 1.0170626640319824, Validation Accuracy: 0.625\n",
      "Epoch 11, CIFAR-10 Batch 1:  Loss/Cost: 1.0747392177581787, Validation Accuracy: 0.6500000357627869\n",
      "Epoch 12, CIFAR-10 Batch 1:  Loss/Cost: 1.1061487197875977, Validation Accuracy: 0.6500000357627869\n",
      "Epoch 13, CIFAR-10 Batch 1:  Loss/Cost: 0.8002527356147766, Validation Accuracy: 0.6499999761581421\n",
      "Epoch 14, CIFAR-10 Batch 1:  Loss/Cost: 0.8848084211349487, Validation Accuracy: 0.7000000476837158\n",
      "Epoch 15, CIFAR-10 Batch 1:  Loss/Cost: 0.6777809858322144, Validation Accuracy: 0.7250000238418579\n",
      "Epoch 16, CIFAR-10 Batch 1:  Loss/Cost: 0.7712400555610657, Validation Accuracy: 0.675000011920929\n",
      "Epoch 17, CIFAR-10 Batch 1:  Loss/Cost: 0.7666828632354736, Validation Accuracy: 0.7000000476837158\n",
      "Epoch 18, CIFAR-10 Batch 1:  Loss/Cost: 0.6316022872924805, Validation Accuracy: 0.824999988079071\n",
      "Epoch 19, CIFAR-10 Batch 1:  Loss/Cost: 0.6555624604225159, Validation Accuracy: 0.7000000476837158\n",
      "Epoch 20, CIFAR-10 Batch 1:  Loss/Cost: 0.6187414526939392, Validation Accuracy: 0.75\n",
      "Epoch 21, CIFAR-10 Batch 1:  Loss/Cost: 0.567049503326416, Validation Accuracy: 0.7750000357627869\n",
      "Epoch 22, CIFAR-10 Batch 1:  Loss/Cost: 0.5248091816902161, Validation Accuracy: 0.8250000476837158\n",
      "Epoch 23, CIFAR-10 Batch 1:  Loss/Cost: 0.6900314688682556, Validation Accuracy: 0.8500000238418579\n",
      "Epoch 24, CIFAR-10 Batch 1:  Loss/Cost: 0.49558037519454956, Validation Accuracy: 0.8500000834465027\n",
      "Epoch 25, CIFAR-10 Batch 1:  Loss/Cost: 0.44657033681869507, Validation Accuracy: 0.75\n",
      "Epoch 26, CIFAR-10 Batch 1:  Loss/Cost: 0.4547072649002075, Validation Accuracy: 0.8250000476837158\n",
      "Epoch 27, CIFAR-10 Batch 1:  Loss/Cost: 0.5423519015312195, Validation Accuracy: 0.9000000357627869\n",
      "Epoch 28, CIFAR-10 Batch 1:  Loss/Cost: 0.46907883882522583, Validation Accuracy: 0.7750000357627869\n",
      "Epoch 29, CIFAR-10 Batch 1:  Loss/Cost: 0.39991089701652527, Validation Accuracy: 0.8750000596046448\n",
      "Epoch 30, CIFAR-10 Batch 1:  Loss/Cost: 0.4836810529232025, Validation Accuracy: 0.8750000596046448\n",
      "Epoch 31, CIFAR-10 Batch 1:  Loss/Cost: 0.45024338364601135, Validation Accuracy: 0.7250000238418579\n",
      "Epoch 32, CIFAR-10 Batch 1:  Loss/Cost: 0.44935715198516846, Validation Accuracy: 0.8500000238418579\n",
      "Epoch 33, CIFAR-10 Batch 1:  Loss/Cost: 0.4919610321521759, Validation Accuracy: 0.9000000357627869\n",
      "Epoch 34, CIFAR-10 Batch 1:  Loss/Cost: 0.3543977737426758, Validation Accuracy: 0.875\n",
      "Epoch 35, CIFAR-10 Batch 1:  Loss/Cost: 0.3960968852043152, Validation Accuracy: 0.925000011920929\n",
      "Epoch 36, CIFAR-10 Batch 1:  Loss/Cost: 0.3649466335773468, Validation Accuracy: 0.8500000238418579\n",
      "Epoch 37, CIFAR-10 Batch 1:  Loss/Cost: 0.41049450635910034, Validation Accuracy: 0.824999988079071\n",
      "Epoch 38, CIFAR-10 Batch 1:  Loss/Cost: 0.33335208892822266, Validation Accuracy: 0.8750000596046448\n",
      "Epoch 39, CIFAR-10 Batch 1:  Loss/Cost: 0.26698341965675354, Validation Accuracy: 0.949999988079071\n",
      "Epoch 40, CIFAR-10 Batch 1:  Loss/Cost: 0.28908705711364746, Validation Accuracy: 0.8999999761581421\n"
     ]
    }
   ],
   "source": [
    "\"\"\"\n",
    "DON'T MODIFY ANYTHING IN THIS CELL\n",
    "\"\"\"\n",
    "print('Checking the Training on a Single Batch...')\n",
    "with tf.Session() as sess:\n",
    "    # Initializing the variables\n",
    "    sess.run(tf.global_variables_initializer())\n",
    "    \n",
    "    # Training cycle\n",
    "    for epoch in range(epochs):\n",
    "        batch_i = 1\n",
    "        for batch_features, batch_labels in helper.load_preprocess_training_batch(batch_i, batch_size):\n",
    "            train_neural_network(sess, optimizer, keep_probability, batch_features, batch_labels)\n",
    "        print('Epoch {:>2}, CIFAR-10 Batch {}:  '.format(epoch + 1, batch_i), end='')\n",
    "        print_stats(sess, batch_features, batch_labels, cost, accuracy)"
   ]
  },
  {
   "cell_type": "markdown",
   "metadata": {
    "deletable": true,
    "editable": true
   },
   "source": [
    "### Fully Train the Model\n",
    "Now that you got a good accuracy with a single CIFAR-10 batch, try it with all five batches."
   ]
  },
  {
   "cell_type": "code",
   "execution_count": 26,
   "metadata": {
    "collapsed": false,
    "deletable": true,
    "editable": true
   },
   "outputs": [
    {
     "name": "stdout",
     "output_type": "stream",
     "text": [
      "Training...\n",
      "Epoch  1, CIFAR-10 Batch 1:  Loss/Cost: 2.2384023666381836, Validation Accuracy: 0.15000000596046448\n",
      "Epoch  1, CIFAR-10 Batch 2:  Loss/Cost: 1.9881832599639893, Validation Accuracy: 0.3500000238418579\n",
      "Epoch  1, CIFAR-10 Batch 3:  Loss/Cost: 1.8345545530319214, Validation Accuracy: 0.3750000298023224\n",
      "Epoch  1, CIFAR-10 Batch 4:  Loss/Cost: 1.7959650754928589, Validation Accuracy: 0.3500000238418579\n",
      "Epoch  1, CIFAR-10 Batch 5:  Loss/Cost: 1.8529196977615356, Validation Accuracy: 0.32500001788139343\n",
      "Epoch  2, CIFAR-10 Batch 1:  Loss/Cost: 1.972144603729248, Validation Accuracy: 0.42500001192092896\n",
      "Epoch  2, CIFAR-10 Batch 2:  Loss/Cost: 1.6248435974121094, Validation Accuracy: 0.42500001192092896\n",
      "Epoch  2, CIFAR-10 Batch 3:  Loss/Cost: 1.394606351852417, Validation Accuracy: 0.5\n",
      "Epoch  2, CIFAR-10 Batch 4:  Loss/Cost: 1.5949485301971436, Validation Accuracy: 0.44999998807907104\n",
      "Epoch  2, CIFAR-10 Batch 5:  Loss/Cost: 1.5977017879486084, Validation Accuracy: 0.3499999940395355\n",
      "Epoch  3, CIFAR-10 Batch 1:  Loss/Cost: 1.7305240631103516, Validation Accuracy: 0.375\n",
      "Epoch  3, CIFAR-10 Batch 2:  Loss/Cost: 1.5327444076538086, Validation Accuracy: 0.4749999940395355\n",
      "Epoch  3, CIFAR-10 Batch 3:  Loss/Cost: 1.3520755767822266, Validation Accuracy: 0.44999998807907104\n",
      "Epoch  3, CIFAR-10 Batch 4:  Loss/Cost: 1.5237263441085815, Validation Accuracy: 0.5\n",
      "Epoch  3, CIFAR-10 Batch 5:  Loss/Cost: 1.4123551845550537, Validation Accuracy: 0.6000000238418579\n",
      "Epoch  4, CIFAR-10 Batch 1:  Loss/Cost: 1.5816463232040405, Validation Accuracy: 0.5\n",
      "Epoch  4, CIFAR-10 Batch 2:  Loss/Cost: 1.2552335262298584, Validation Accuracy: 0.5249999761581421\n",
      "Epoch  4, CIFAR-10 Batch 3:  Loss/Cost: 1.2985869646072388, Validation Accuracy: 0.5249999761581421\n",
      "Epoch  4, CIFAR-10 Batch 4:  Loss/Cost: 1.340393304824829, Validation Accuracy: 0.4750000238418579\n",
      "Epoch  4, CIFAR-10 Batch 5:  Loss/Cost: 1.3742637634277344, Validation Accuracy: 0.550000011920929\n",
      "Epoch  5, CIFAR-10 Batch 1:  Loss/Cost: 1.593540906906128, Validation Accuracy: 0.4000000059604645\n",
      "Epoch  5, CIFAR-10 Batch 2:  Loss/Cost: 1.1635429859161377, Validation Accuracy: 0.5249999761581421\n",
      "Epoch  5, CIFAR-10 Batch 3:  Loss/Cost: 1.074800729751587, Validation Accuracy: 0.5\n",
      "Epoch  5, CIFAR-10 Batch 4:  Loss/Cost: 1.3066840171813965, Validation Accuracy: 0.550000011920929\n",
      "Epoch  5, CIFAR-10 Batch 5:  Loss/Cost: 1.1017889976501465, Validation Accuracy: 0.6000000238418579\n",
      "Epoch  6, CIFAR-10 Batch 1:  Loss/Cost: 1.4217031002044678, Validation Accuracy: 0.4749999940395355\n",
      "Epoch  6, CIFAR-10 Batch 2:  Loss/Cost: 1.0048770904541016, Validation Accuracy: 0.5750000476837158\n",
      "Epoch  6, CIFAR-10 Batch 3:  Loss/Cost: 0.9808255434036255, Validation Accuracy: 0.6750000715255737\n",
      "Epoch  6, CIFAR-10 Batch 4:  Loss/Cost: 1.1877169609069824, Validation Accuracy: 0.574999988079071\n",
      "Epoch  6, CIFAR-10 Batch 5:  Loss/Cost: 1.0624428987503052, Validation Accuracy: 0.5999999642372131\n",
      "Epoch  7, CIFAR-10 Batch 1:  Loss/Cost: 1.2556031942367554, Validation Accuracy: 0.6000000238418579\n",
      "Epoch  7, CIFAR-10 Batch 2:  Loss/Cost: 1.0171833038330078, Validation Accuracy: 0.6499999761581421\n",
      "Epoch  7, CIFAR-10 Batch 3:  Loss/Cost: 0.9462066888809204, Validation Accuracy: 0.6000000238418579\n",
      "Epoch  7, CIFAR-10 Batch 4:  Loss/Cost: 0.9800243377685547, Validation Accuracy: 0.6500000357627869\n",
      "Epoch  7, CIFAR-10 Batch 5:  Loss/Cost: 1.1020750999450684, Validation Accuracy: 0.5750000476837158\n",
      "Epoch  8, CIFAR-10 Batch 1:  Loss/Cost: 1.2282757759094238, Validation Accuracy: 0.574999988079071\n",
      "Epoch  8, CIFAR-10 Batch 2:  Loss/Cost: 0.8353204727172852, Validation Accuracy: 0.75\n",
      "Epoch  8, CIFAR-10 Batch 3:  Loss/Cost: 0.895663321018219, Validation Accuracy: 0.699999988079071\n",
      "Epoch  8, CIFAR-10 Batch 4:  Loss/Cost: 0.9309170842170715, Validation Accuracy: 0.6749999523162842\n",
      "Epoch  8, CIFAR-10 Batch 5:  Loss/Cost: 1.0031366348266602, Validation Accuracy: 0.6499999761581421\n",
      "Epoch  9, CIFAR-10 Batch 1:  Loss/Cost: 1.0768519639968872, Validation Accuracy: 0.5750000476837158\n",
      "Epoch  9, CIFAR-10 Batch 2:  Loss/Cost: 0.6784413456916809, Validation Accuracy: 0.6500000357627869\n",
      "Epoch  9, CIFAR-10 Batch 3:  Loss/Cost: 0.7492661476135254, Validation Accuracy: 0.7250000238418579\n",
      "Epoch  9, CIFAR-10 Batch 4:  Loss/Cost: 0.9053385257720947, Validation Accuracy: 0.6000000238418579\n",
      "Epoch  9, CIFAR-10 Batch 5:  Loss/Cost: 0.9479750394821167, Validation Accuracy: 0.6499999761581421\n",
      "Epoch 10, CIFAR-10 Batch 1:  Loss/Cost: 1.064647912979126, Validation Accuracy: 0.5249999761581421\n",
      "Epoch 10, CIFAR-10 Batch 2:  Loss/Cost: 0.728378176689148, Validation Accuracy: 0.7749999761581421\n",
      "Epoch 10, CIFAR-10 Batch 3:  Loss/Cost: 0.6924307346343994, Validation Accuracy: 0.7999999523162842\n",
      "Epoch 10, CIFAR-10 Batch 4:  Loss/Cost: 1.0036277770996094, Validation Accuracy: 0.7250000238418579\n",
      "Epoch 10, CIFAR-10 Batch 5:  Loss/Cost: 1.005073070526123, Validation Accuracy: 0.8000000715255737\n",
      "Epoch 11, CIFAR-10 Batch 1:  Loss/Cost: 0.9586328268051147, Validation Accuracy: 0.625\n",
      "Epoch 11, CIFAR-10 Batch 2:  Loss/Cost: 0.8180959224700928, Validation Accuracy: 0.7500000596046448\n",
      "Epoch 11, CIFAR-10 Batch 3:  Loss/Cost: 0.7540453672409058, Validation Accuracy: 0.800000011920929\n",
      "Epoch 11, CIFAR-10 Batch 4:  Loss/Cost: 0.8149506449699402, Validation Accuracy: 0.75\n",
      "Epoch 11, CIFAR-10 Batch 5:  Loss/Cost: 1.0354865789413452, Validation Accuracy: 0.7000000476837158\n",
      "Epoch 12, CIFAR-10 Batch 1:  Loss/Cost: 0.8602937459945679, Validation Accuracy: 0.625\n",
      "Epoch 12, CIFAR-10 Batch 2:  Loss/Cost: 0.8163635730743408, Validation Accuracy: 0.7500000596046448\n",
      "Epoch 12, CIFAR-10 Batch 3:  Loss/Cost: 0.5677292346954346, Validation Accuracy: 0.7750000357627869\n",
      "Epoch 12, CIFAR-10 Batch 4:  Loss/Cost: 0.77325838804245, Validation Accuracy: 0.75\n",
      "Epoch 12, CIFAR-10 Batch 5:  Loss/Cost: 0.9106597900390625, Validation Accuracy: 0.7000000476837158\n",
      "Epoch 13, CIFAR-10 Batch 1:  Loss/Cost: 0.9090651869773865, Validation Accuracy: 0.675000011920929\n",
      "Epoch 13, CIFAR-10 Batch 2:  Loss/Cost: 0.7356382012367249, Validation Accuracy: 0.6500000357627869\n",
      "Epoch 13, CIFAR-10 Batch 3:  Loss/Cost: 0.7486201524734497, Validation Accuracy: 0.75\n",
      "Epoch 13, CIFAR-10 Batch 4:  Loss/Cost: 0.8677088022232056, Validation Accuracy: 0.75\n",
      "Epoch 13, CIFAR-10 Batch 5:  Loss/Cost: 0.8730605840682983, Validation Accuracy: 0.7750000357627869\n",
      "Epoch 14, CIFAR-10 Batch 1:  Loss/Cost: 0.7608816027641296, Validation Accuracy: 0.7750000357627869\n",
      "Epoch 14, CIFAR-10 Batch 2:  Loss/Cost: 0.6760324239730835, Validation Accuracy: 0.800000011920929\n",
      "Epoch 14, CIFAR-10 Batch 3:  Loss/Cost: 0.6416852474212646, Validation Accuracy: 0.8500000238418579\n",
      "Epoch 14, CIFAR-10 Batch 4:  Loss/Cost: 0.7956304550170898, Validation Accuracy: 0.8500000238418579\n",
      "Epoch 14, CIFAR-10 Batch 5:  Loss/Cost: 0.6644654870033264, Validation Accuracy: 0.8250000476837158\n",
      "Epoch 15, CIFAR-10 Batch 1:  Loss/Cost: 0.9730454683303833, Validation Accuracy: 0.7250000238418579\n",
      "Epoch 15, CIFAR-10 Batch 2:  Loss/Cost: 0.5767706632614136, Validation Accuracy: 0.8750000596046448\n",
      "Epoch 15, CIFAR-10 Batch 3:  Loss/Cost: 0.7252973914146423, Validation Accuracy: 0.8000000715255737\n",
      "Epoch 15, CIFAR-10 Batch 4:  Loss/Cost: 0.6686495542526245, Validation Accuracy: 0.7000000476837158\n",
      "Epoch 15, CIFAR-10 Batch 5:  Loss/Cost: 0.6207818984985352, Validation Accuracy: 0.8500000238418579\n",
      "Epoch 16, CIFAR-10 Batch 1:  Loss/Cost: 0.6456878185272217, Validation Accuracy: 0.8250000476837158\n",
      "Epoch 16, CIFAR-10 Batch 2:  Loss/Cost: 0.7788205146789551, Validation Accuracy: 0.7750000357627869\n",
      "Epoch 16, CIFAR-10 Batch 3:  Loss/Cost: 0.6729166507720947, Validation Accuracy: 0.8000000715255737\n",
      "Epoch 16, CIFAR-10 Batch 4:  Loss/Cost: 0.6497700214385986, Validation Accuracy: 0.6500000357627869\n",
      "Epoch 16, CIFAR-10 Batch 5:  Loss/Cost: 0.6541016101837158, Validation Accuracy: 0.824999988079071\n",
      "Epoch 17, CIFAR-10 Batch 1:  Loss/Cost: 0.696061909198761, Validation Accuracy: 0.8250000476837158\n",
      "Epoch 17, CIFAR-10 Batch 2:  Loss/Cost: 0.7330694198608398, Validation Accuracy: 0.8500000834465027\n",
      "Epoch 17, CIFAR-10 Batch 3:  Loss/Cost: 0.5932648181915283, Validation Accuracy: 0.8500000238418579\n",
      "Epoch 17, CIFAR-10 Batch 4:  Loss/Cost: 0.7155245542526245, Validation Accuracy: 0.7500000596046448\n",
      "Epoch 17, CIFAR-10 Batch 5:  Loss/Cost: 0.6199327707290649, Validation Accuracy: 0.8500000834465027\n",
      "Epoch 18, CIFAR-10 Batch 1:  Loss/Cost: 0.6593482494354248, Validation Accuracy: 0.7749999761581421\n",
      "Epoch 18, CIFAR-10 Batch 2:  Loss/Cost: 0.6732559204101562, Validation Accuracy: 0.8500000238418579\n",
      "Epoch 18, CIFAR-10 Batch 3:  Loss/Cost: 0.5147559642791748, Validation Accuracy: 0.7249999642372131\n",
      "Epoch 18, CIFAR-10 Batch 4:  Loss/Cost: 0.5174263715744019, Validation Accuracy: 0.7250000238418579\n",
      "Epoch 18, CIFAR-10 Batch 5:  Loss/Cost: 0.6547902226448059, Validation Accuracy: 0.8250000476837158\n",
      "Epoch 19, CIFAR-10 Batch 1:  Loss/Cost: 0.6601540446281433, Validation Accuracy: 0.9000000357627869\n",
      "Epoch 19, CIFAR-10 Batch 2:  Loss/Cost: 0.4573085606098175, Validation Accuracy: 0.7250000238418579\n",
      "Epoch 19, CIFAR-10 Batch 3:  Loss/Cost: 0.4857943058013916, Validation Accuracy: 0.8500000238418579\n",
      "Epoch 19, CIFAR-10 Batch 4:  Loss/Cost: 0.7335009574890137, Validation Accuracy: 0.7999999523162842\n",
      "Epoch 19, CIFAR-10 Batch 5:  Loss/Cost: 0.6086344122886658, Validation Accuracy: 0.8000000715255737\n",
      "Epoch 20, CIFAR-10 Batch 1:  Loss/Cost: 0.6354783177375793, Validation Accuracy: 0.8000000715255737\n",
      "Epoch 20, CIFAR-10 Batch 2:  Loss/Cost: 0.5168600082397461, Validation Accuracy: 0.6500000357627869\n",
      "Epoch 20, CIFAR-10 Batch 3:  Loss/Cost: 0.6970224380493164, Validation Accuracy: 0.8750000596046448\n",
      "Epoch 20, CIFAR-10 Batch 4:  Loss/Cost: 0.7122886180877686, Validation Accuracy: 0.8250000476837158\n",
      "Epoch 20, CIFAR-10 Batch 5:  Loss/Cost: 0.5361379384994507, Validation Accuracy: 0.8750000596046448\n",
      "Epoch 21, CIFAR-10 Batch 1:  Loss/Cost: 0.6259152889251709, Validation Accuracy: 0.8500000238418579\n",
      "Epoch 21, CIFAR-10 Batch 2:  Loss/Cost: 0.536056399345398, Validation Accuracy: 0.7250000238418579\n",
      "Epoch 21, CIFAR-10 Batch 3:  Loss/Cost: 0.4834493398666382, Validation Accuracy: 0.75\n",
      "Epoch 21, CIFAR-10 Batch 4:  Loss/Cost: 0.6107447743415833, Validation Accuracy: 0.8500000238418579\n",
      "Epoch 21, CIFAR-10 Batch 5:  Loss/Cost: 0.49198251962661743, Validation Accuracy: 0.8250000476837158\n",
      "Epoch 22, CIFAR-10 Batch 1:  Loss/Cost: 0.7095929384231567, Validation Accuracy: 0.75\n",
      "Epoch 22, CIFAR-10 Batch 2:  Loss/Cost: 0.5318225026130676, Validation Accuracy: 0.8500000238418579\n",
      "Epoch 22, CIFAR-10 Batch 3:  Loss/Cost: 0.6251806616783142, Validation Accuracy: 0.7750000357627869\n",
      "Epoch 22, CIFAR-10 Batch 4:  Loss/Cost: 0.4958217442035675, Validation Accuracy: 0.8000000715255737\n",
      "Epoch 22, CIFAR-10 Batch 5:  Loss/Cost: 0.5602254271507263, Validation Accuracy: 0.8500000238418579\n",
      "Epoch 23, CIFAR-10 Batch 1:  Loss/Cost: 0.5932843685150146, Validation Accuracy: 0.699999988079071\n",
      "Epoch 23, CIFAR-10 Batch 2:  Loss/Cost: 0.5855216383934021, Validation Accuracy: 0.9000000357627869\n",
      "Epoch 23, CIFAR-10 Batch 3:  Loss/Cost: 0.49019816517829895, Validation Accuracy: 0.75\n",
      "Epoch 23, CIFAR-10 Batch 4:  Loss/Cost: 0.5158841013908386, Validation Accuracy: 0.800000011920929\n",
      "Epoch 23, CIFAR-10 Batch 5:  Loss/Cost: 0.48142266273498535, Validation Accuracy: 0.875\n",
      "Epoch 24, CIFAR-10 Batch 1:  Loss/Cost: 0.5608177781105042, Validation Accuracy: 0.8250000476837158\n",
      "Epoch 24, CIFAR-10 Batch 2:  Loss/Cost: 0.5666031837463379, Validation Accuracy: 0.8000000715255737\n",
      "Epoch 24, CIFAR-10 Batch 3:  Loss/Cost: 0.5149692296981812, Validation Accuracy: 0.7750000357627869\n",
      "Epoch 24, CIFAR-10 Batch 4:  Loss/Cost: 0.45855700969696045, Validation Accuracy: 0.8750000596046448\n",
      "Epoch 24, CIFAR-10 Batch 5:  Loss/Cost: 0.5923023223876953, Validation Accuracy: 0.8250000476837158\n",
      "Epoch 25, CIFAR-10 Batch 1:  Loss/Cost: 0.7304726839065552, Validation Accuracy: 0.8500000834465027\n",
      "Epoch 25, CIFAR-10 Batch 2:  Loss/Cost: 0.5596212148666382, Validation Accuracy: 0.875\n",
      "Epoch 25, CIFAR-10 Batch 3:  Loss/Cost: 0.5497432351112366, Validation Accuracy: 0.8000000715255737\n",
      "Epoch 25, CIFAR-10 Batch 4:  Loss/Cost: 0.4658529758453369, Validation Accuracy: 0.8500000238418579\n",
      "Epoch 25, CIFAR-10 Batch 5:  Loss/Cost: 0.37313228845596313, Validation Accuracy: 0.9000000357627869\n",
      "Epoch 26, CIFAR-10 Batch 1:  Loss/Cost: 0.4831177890300751, Validation Accuracy: 0.800000011920929\n",
      "Epoch 26, CIFAR-10 Batch 2:  Loss/Cost: 0.49150627851486206, Validation Accuracy: 0.8500000238418579\n",
      "Epoch 26, CIFAR-10 Batch 3:  Loss/Cost: 0.32958877086639404, Validation Accuracy: 0.8750000596046448\n",
      "Epoch 26, CIFAR-10 Batch 4:  Loss/Cost: 0.43898504972457886, Validation Accuracy: 0.7000000476837158\n",
      "Epoch 26, CIFAR-10 Batch 5:  Loss/Cost: 0.4898173213005066, Validation Accuracy: 0.925000011920929\n",
      "Epoch 27, CIFAR-10 Batch 1:  Loss/Cost: 0.5472661852836609, Validation Accuracy: 0.8500000238418579\n",
      "Epoch 27, CIFAR-10 Batch 2:  Loss/Cost: 0.48073846101760864, Validation Accuracy: 0.800000011920929\n",
      "Epoch 27, CIFAR-10 Batch 3:  Loss/Cost: 0.4605731666088104, Validation Accuracy: 0.925000011920929\n",
      "Epoch 27, CIFAR-10 Batch 4:  Loss/Cost: 0.5510676503181458, Validation Accuracy: 0.875\n",
      "Epoch 27, CIFAR-10 Batch 5:  Loss/Cost: 0.4230015277862549, Validation Accuracy: 0.8250000476837158\n",
      "Epoch 28, CIFAR-10 Batch 1:  Loss/Cost: 0.5193047523498535, Validation Accuracy: 0.8500000238418579\n",
      "Epoch 28, CIFAR-10 Batch 2:  Loss/Cost: 0.41029858589172363, Validation Accuracy: 0.8500000238418579\n",
      "Epoch 28, CIFAR-10 Batch 3:  Loss/Cost: 0.516419529914856, Validation Accuracy: 0.7749999761581421\n",
      "Epoch 28, CIFAR-10 Batch 4:  Loss/Cost: 0.4338604211807251, Validation Accuracy: 0.8000000715255737\n",
      "Epoch 28, CIFAR-10 Batch 5:  Loss/Cost: 0.5944336652755737, Validation Accuracy: 0.8750000596046448\n",
      "Epoch 29, CIFAR-10 Batch 1:  Loss/Cost: 0.4894590973854065, Validation Accuracy: 0.8250000476837158\n",
      "Epoch 29, CIFAR-10 Batch 2:  Loss/Cost: 0.47882142663002014, Validation Accuracy: 0.8500000238418579\n",
      "Epoch 29, CIFAR-10 Batch 3:  Loss/Cost: 0.3381550908088684, Validation Accuracy: 0.875\n",
      "Epoch 29, CIFAR-10 Batch 4:  Loss/Cost: 0.3066658079624176, Validation Accuracy: 0.8500000238418579\n",
      "Epoch 29, CIFAR-10 Batch 5:  Loss/Cost: 0.5226966142654419, Validation Accuracy: 0.8750000596046448\n",
      "Epoch 30, CIFAR-10 Batch 1:  Loss/Cost: 0.6207229495048523, Validation Accuracy: 0.8750000596046448\n",
      "Epoch 30, CIFAR-10 Batch 2:  Loss/Cost: 0.45255401730537415, Validation Accuracy: 0.7749999761581421\n",
      "Epoch 30, CIFAR-10 Batch 3:  Loss/Cost: 0.35358792543411255, Validation Accuracy: 0.8500000238418579\n",
      "Epoch 30, CIFAR-10 Batch 4:  Loss/Cost: 0.3022916316986084, Validation Accuracy: 0.875\n",
      "Epoch 30, CIFAR-10 Batch 5:  Loss/Cost: 0.40600448846817017, Validation Accuracy: 0.925000011920929\n",
      "Epoch 31, CIFAR-10 Batch 1:  Loss/Cost: 0.40588513016700745, Validation Accuracy: 0.8250000476837158\n",
      "Epoch 31, CIFAR-10 Batch 2:  Loss/Cost: 0.5905933380126953, Validation Accuracy: 0.8250000476837158\n",
      "Epoch 31, CIFAR-10 Batch 3:  Loss/Cost: 0.33180126547813416, Validation Accuracy: 0.8250000476837158\n",
      "Epoch 31, CIFAR-10 Batch 4:  Loss/Cost: 0.4294625222682953, Validation Accuracy: 0.8750000596046448\n",
      "Epoch 31, CIFAR-10 Batch 5:  Loss/Cost: 0.6534080505371094, Validation Accuracy: 0.949999988079071\n",
      "Epoch 32, CIFAR-10 Batch 1:  Loss/Cost: 0.46067294478416443, Validation Accuracy: 0.8750000596046448\n",
      "Epoch 32, CIFAR-10 Batch 2:  Loss/Cost: 0.3369263708591461, Validation Accuracy: 0.875\n",
      "Epoch 32, CIFAR-10 Batch 3:  Loss/Cost: 0.4794583320617676, Validation Accuracy: 0.8750000596046448\n",
      "Epoch 32, CIFAR-10 Batch 4:  Loss/Cost: 0.4324600398540497, Validation Accuracy: 0.8500000238418579\n",
      "Epoch 32, CIFAR-10 Batch 5:  Loss/Cost: 0.3165504038333893, Validation Accuracy: 0.925000011920929\n",
      "Epoch 33, CIFAR-10 Batch 1:  Loss/Cost: 0.44496971368789673, Validation Accuracy: 0.8000000715255737\n",
      "Epoch 33, CIFAR-10 Batch 2:  Loss/Cost: 0.39229801297187805, Validation Accuracy: 0.8500000834465027\n",
      "Epoch 33, CIFAR-10 Batch 3:  Loss/Cost: 0.37381282448768616, Validation Accuracy: 0.8500000834465027\n",
      "Epoch 33, CIFAR-10 Batch 4:  Loss/Cost: 0.3732563853263855, Validation Accuracy: 0.8750000596046448\n",
      "Epoch 33, CIFAR-10 Batch 5:  Loss/Cost: 0.3912564516067505, Validation Accuracy: 0.9500000476837158\n",
      "Epoch 34, CIFAR-10 Batch 1:  Loss/Cost: 0.48229271173477173, Validation Accuracy: 0.8250000476837158\n",
      "Epoch 34, CIFAR-10 Batch 2:  Loss/Cost: 0.37039899826049805, Validation Accuracy: 0.8000000715255737\n",
      "Epoch 34, CIFAR-10 Batch 3:  Loss/Cost: 0.44504809379577637, Validation Accuracy: 0.8000000715255737\n",
      "Epoch 34, CIFAR-10 Batch 4:  Loss/Cost: 0.4170586168766022, Validation Accuracy: 0.9000000357627869\n",
      "Epoch 34, CIFAR-10 Batch 5:  Loss/Cost: 0.34753158688545227, Validation Accuracy: 0.9000000357627869\n",
      "Epoch 35, CIFAR-10 Batch 1:  Loss/Cost: 0.42547130584716797, Validation Accuracy: 0.7750000357627869\n",
      "Epoch 35, CIFAR-10 Batch 2:  Loss/Cost: 0.3502514958381653, Validation Accuracy: 0.8500000238418579\n",
      "Epoch 35, CIFAR-10 Batch 3:  Loss/Cost: 0.37746235728263855, Validation Accuracy: 0.9000000357627869\n",
      "Epoch 35, CIFAR-10 Batch 4:  Loss/Cost: 0.4731573164463043, Validation Accuracy: 1.0\n",
      "Epoch 35, CIFAR-10 Batch 5:  Loss/Cost: 0.357941210269928, Validation Accuracy: 0.8500000238418579\n",
      "Epoch 36, CIFAR-10 Batch 1:  Loss/Cost: 0.6270660161972046, Validation Accuracy: 0.8500000238418579\n",
      "Epoch 36, CIFAR-10 Batch 2:  Loss/Cost: 0.44743722677230835, Validation Accuracy: 0.824999988079071\n",
      "Epoch 36, CIFAR-10 Batch 3:  Loss/Cost: 0.4288083016872406, Validation Accuracy: 0.8750000596046448\n",
      "Epoch 36, CIFAR-10 Batch 4:  Loss/Cost: 0.4005403518676758, Validation Accuracy: 0.824999988079071\n",
      "Epoch 36, CIFAR-10 Batch 5:  Loss/Cost: 0.3593134880065918, Validation Accuracy: 0.949999988079071\n",
      "Epoch 37, CIFAR-10 Batch 1:  Loss/Cost: 0.3700132966041565, Validation Accuracy: 0.7750000357627869\n",
      "Epoch 37, CIFAR-10 Batch 2:  Loss/Cost: 0.450021892786026, Validation Accuracy: 0.8500000238418579\n",
      "Epoch 37, CIFAR-10 Batch 3:  Loss/Cost: 0.3890129625797272, Validation Accuracy: 0.824999988079071\n",
      "Epoch 37, CIFAR-10 Batch 4:  Loss/Cost: 0.3526309132575989, Validation Accuracy: 0.9000000357627869\n",
      "Epoch 37, CIFAR-10 Batch 5:  Loss/Cost: 0.289570689201355, Validation Accuracy: 0.925000011920929\n",
      "Epoch 38, CIFAR-10 Batch 1:  Loss/Cost: 0.3661544620990753, Validation Accuracy: 0.8500000238418579\n",
      "Epoch 38, CIFAR-10 Batch 2:  Loss/Cost: 0.4224444627761841, Validation Accuracy: 0.800000011920929\n",
      "Epoch 38, CIFAR-10 Batch 3:  Loss/Cost: 0.3049922585487366, Validation Accuracy: 0.8750000596046448\n",
      "Epoch 38, CIFAR-10 Batch 4:  Loss/Cost: 0.4027002453804016, Validation Accuracy: 0.9000000357627869\n",
      "Epoch 38, CIFAR-10 Batch 5:  Loss/Cost: 0.48518091440200806, Validation Accuracy: 0.925000011920929\n",
      "Epoch 39, CIFAR-10 Batch 1:  Loss/Cost: 0.3493557870388031, Validation Accuracy: 0.824999988079071\n",
      "Epoch 39, CIFAR-10 Batch 2:  Loss/Cost: 0.4102625548839569, Validation Accuracy: 0.925000011920929\n",
      "Epoch 39, CIFAR-10 Batch 3:  Loss/Cost: 0.34978634119033813, Validation Accuracy: 0.9749999642372131\n",
      "Epoch 39, CIFAR-10 Batch 4:  Loss/Cost: 0.42089930176734924, Validation Accuracy: 0.9249999523162842\n",
      "Epoch 39, CIFAR-10 Batch 5:  Loss/Cost: 0.4085444211959839, Validation Accuracy: 0.8500000238418579\n",
      "Epoch 40, CIFAR-10 Batch 1:  Loss/Cost: 0.459198921918869, Validation Accuracy: 0.9249999523162842\n",
      "Epoch 40, CIFAR-10 Batch 2:  Loss/Cost: 0.3388177454471588, Validation Accuracy: 0.875\n",
      "Epoch 40, CIFAR-10 Batch 3:  Loss/Cost: 0.31365692615509033, Validation Accuracy: 0.9000000357627869\n",
      "Epoch 40, CIFAR-10 Batch 4:  Loss/Cost: 0.3222620189189911, Validation Accuracy: 0.9000000357627869\n",
      "Epoch 40, CIFAR-10 Batch 5:  Loss/Cost: 0.30088430643081665, Validation Accuracy: 0.8750000596046448\n"
     ]
    }
   ],
   "source": [
    "\"\"\"\n",
    "DON'T MODIFY ANYTHING IN THIS CELL\n",
    "\"\"\"\n",
    "save_model_path = './image_classification'\n",
    "\n",
    "print('Training...')\n",
    "with tf.Session() as sess:\n",
    "    # Initializing the variables\n",
    "    sess.run(tf.global_variables_initializer())\n",
    "    \n",
    "    # Training cycle\n",
    "    for epoch in range(epochs):\n",
    "        # Loop over all batches\n",
    "        n_batches = 5\n",
    "        for batch_i in range(1, n_batches + 1):\n",
    "            for batch_features, batch_labels in helper.load_preprocess_training_batch(batch_i, batch_size):\n",
    "                train_neural_network(sess, optimizer, keep_probability, batch_features, batch_labels)\n",
    "            print('Epoch {:>2}, CIFAR-10 Batch {}:  '.format(epoch + 1, batch_i), end='')\n",
    "            print_stats(sess, batch_features, batch_labels, cost, accuracy)\n",
    "            \n",
    "    # Save Model\n",
    "    saver = tf.train.Saver()\n",
    "    save_path = saver.save(sess, save_model_path)"
   ]
  },
  {
   "cell_type": "markdown",
   "metadata": {
    "deletable": true,
    "editable": true
   },
   "source": [
    "# Checkpoint\n",
    "The model has been saved to disk.\n",
    "## Test Model\n",
    "Test your model against the test dataset.  This will be your final accuracy. You should have an accuracy greater than 50%. If you don't, keep tweaking the model architecture and parameters."
   ]
  },
  {
   "cell_type": "code",
   "execution_count": 29,
   "metadata": {
    "collapsed": false,
    "deletable": true,
    "editable": true
   },
   "outputs": [
    {
     "name": "stdout",
     "output_type": "stream",
     "text": [
      "Testing Accuracy: 0.59072265625\n",
      "\n"
     ]
    },
    {
     "data": {
      "image/png": "[encoded data removed]",
      "text/plain": [
       "<matplotlib.figure.Figure at 0x7f8a991f1390>"
      ]
     },
     "metadata": {
      "image/png": {
       "height": 319,
       "width": 355
      }
     },
     "output_type": "display_data"
    }
   ],
   "source": [
    "\"\"\"\n",
    "DON'T MODIFY ANYTHING IN THIS CELL\n",
    "\"\"\"\n",
    "%matplotlib inline\n",
    "%config InlineBackend.figure_format = 'retina'\n",
    "\n",
    "import tensorflow as tf\n",
    "import pickle\n",
    "import helper\n",
    "import random\n",
    "\n",
    "# Set batch size if not already set\n",
    "try:\n",
    "    if batch_size:\n",
    "        pass\n",
    "except NameError:\n",
    "    batch_size = 64\n",
    "\n",
    "save_model_path = './image_classification'\n",
    "n_samples = 4\n",
    "top_n_predictions = 3\n",
    "\n",
    "def test_model():\n",
    "    \"\"\"\n",
    "    Test the saved model against the test dataset\n",
    "    \"\"\"\n",
    "\n",
    "    test_features, test_labels = pickle.load(open('preprocess_training.p', mode='rb'))\n",
    "    loaded_graph = tf.Graph()\n",
    "\n",
    "    with tf.Session(graph=loaded_graph) as sess:\n",
    "        # Load model\n",
    "        loader = tf.train.import_meta_graph(save_model_path + '.meta')\n",
    "        loader.restore(sess, save_model_path)\n",
    "\n",
    "        # Get Tensors from loaded model\n",
    "        loaded_x = loaded_graph.get_tensor_by_name('x:0')\n",
    "        loaded_y = loaded_graph.get_tensor_by_name('y:0')\n",
    "        loaded_keep_prob = loaded_graph.get_tensor_by_name('keep_prob:0')\n",
    "        loaded_logits = loaded_graph.get_tensor_by_name('logits:0')\n",
    "        loaded_acc = loaded_graph.get_tensor_by_name('accuracy:0')\n",
    "        \n",
    "        # Get accuracy in batches for memory limitations\n",
    "        test_batch_acc_total = 0\n",
    "        test_batch_count = 0\n",
    "        \n",
    "        for train_feature_batch, train_label_batch in helper.batch_features_labels(test_features, test_labels, batch_size):\n",
    "            test_batch_acc_total += sess.run(\n",
    "                loaded_acc,\n",
    "                feed_dict={loaded_x: train_feature_batch, loaded_y: train_label_batch, loaded_keep_prob: 1.0})\n",
    "            test_batch_count += 1\n",
    "\n",
    "        print('Testing Accuracy: {}\\n'.format(test_batch_acc_total/test_batch_count))\n",
    "\n",
    "        # Print Random Samples\n",
    "        random_test_features, random_test_labels = tuple(zip(*random.sample(list(zip(test_features, test_labels)), n_samples)))\n",
    "        random_test_predictions = sess.run(\n",
    "            tf.nn.top_k(tf.nn.softmax(loaded_logits), top_n_predictions),\n",
    "            feed_dict={loaded_x: random_test_features, loaded_y: random_test_labels, loaded_keep_prob: 1.0})\n",
    "        helper.display_image_predictions(random_test_features, random_test_labels, random_test_predictions)\n",
    "\n",
    "\n",
    "test_model()"
   ]
  },
  {
   "cell_type": "markdown",
   "metadata": {
    "deletable": true,
    "editable": true
   },
   "source": [
    "## Why 50-80% Accuracy?\n",
    "You might be wondering why you can't get an accuracy any higher. First things first, 50% isn't bad for a simple CNN.  Pure guessing would get you 10% accuracy. However, you might notice people are getting scores [well above 80%](http://rodrigob.github.io/are_we_there_yet/build/classification_datasets_results.html#43494641522d3130).  That's because we haven't taught you all there is to know about neural networks. We still need to cover a few more techniques.\n",
    "## Submitting This Project\n",
    "When submitting this project, make sure to run all the cells before saving the notebook.  Save the notebook file as \"dlnd_image_classification.ipynb\" and save it as a HTML file under \"File\" -> \"Download as\".  Include the \"helper.py\" and \"problem_unittests.py\" files in your submission."
   ]
  }
 ],
 "metadata": {
  "kernelspec": {
   "display_name": "Python 3",
   "language": "python",
   "name": "python3"
  },
  "language_info": {
   "codemirror_mode": {
    "name": "ipython",
    "version": 3
   },
   "file_extension": ".py",
   "mimetype": "text/x-python",
   "name": "python",
   "nbconvert_exporter": "python",
   "pygments_lexer": "ipython3",
   "version": "3.5.2"
  },
  "widgets": {
   "state": {},
   "version": "1.1.2"
  }
 },
 "nbformat": 4,
 "nbformat_minor": 0
}
